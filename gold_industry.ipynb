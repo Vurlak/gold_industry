{
 "cells": [
  {
   "cell_type": "markdown",
   "metadata": {
    "toc": true
   },
   "source": [
    "<h1>Содержание<span class=\"tocSkip\"></span></h1>\n",
    "<div class=\"toc\"><ul class=\"toc-item\"><li><span><a href=\"#Подготовка-данных\" data-toc-modified-id=\"Подготовка-данных-1\"><span class=\"toc-item-num\">1&nbsp;&nbsp;</span>Подготовка данных</a></span></li><li><span><a href=\"#Анализ-данных\" data-toc-modified-id=\"Анализ-данных-2\"><span class=\"toc-item-num\">2&nbsp;&nbsp;</span>Анализ данных</a></span></li><li><span><a href=\"#Модель\" data-toc-modified-id=\"Модель-3\"><span class=\"toc-item-num\">3&nbsp;&nbsp;</span>Модель</a></span></li></ul></div>"
   ]
  },
  {
   "cell_type": "markdown",
   "metadata": {},
   "source": [
    "# Восстановление золота из руды"
   ]
  },
  {
   "cell_type": "markdown",
   "metadata": {},
   "source": [
    "Подготовьте прототип модели машинного обучения для «Цифры». Компания разрабатывает решения для эффективной работы промышленных предприятий.\n",
    "\n",
    "Модель должна предсказать коэффициент восстановления золота из золотосодержащей руды. Используйте данные с параметрами добычи и очистки. \n",
    "\n",
    "Модель поможет оптимизировать производство, чтобы не запускать предприятие с убыточными характеристиками.\n",
    "\n",
    "Вам нужно:\n",
    "\n",
    "1. Подготовить данные;\n",
    "2. Провести исследовательский анализ данных;\n",
    "3. Построить и обучить модель.\n",
    "\n",
    "Чтобы выполнить проект, обращайтесь к библиотекам *pandas*, *matplotlib* и *sklearn.* Вам поможет их документация."
   ]
  },
  {
   "cell_type": "markdown",
   "metadata": {},
   "source": [
    "## Подготовка данных"
   ]
  },
  {
   "cell_type": "code",
   "execution_count": 1,
   "metadata": {},
   "outputs": [],
   "source": [
    "import pandas as pd\n",
    "import numpy as np\n",
    "import matplotlib.pyplot as plt\n",
    "from numpy.random import RandomState\n",
    "RANDOM_STATE = RandomState(123)\n",
    "from sklearn.preprocessing import StandardScaler\n",
    "from sklearn.linear_model import LinearRegression\n",
    "from sklearn.model_selection import RandomizedSearchCV\n",
    "from sklearn.model_selection import train_test_split\n",
    "from sklearn.model_selection import cross_validate\n",
    "from sklearn.model_selection import cross_val_score\n",
    "from sklearn.metrics import mean_absolute_percentage_error\n",
    "from sklearn.metrics import make_scorer\n",
    "from sklearn.tree import DecisionTreeRegressor\n",
    "from sklearn.ensemble import RandomForestRegressor\n",
    "from sklearn.dummy import DummyRegressor\n"
   ]
  },
  {
   "cell_type": "code",
   "execution_count": 2,
   "metadata": {},
   "outputs": [],
   "source": [
    "try:\n",
    "    data_full = pd.read_csv(\"/Users/sidil/Downloads/Telegram Desktop/Project_2/gold_recovery_full_new.csv\")\n",
    "    data_test = pd.read_csv(\"/Users/sidil/Downloads/Telegram Desktop/Project_2/gold_recovery_test_new.csv\")\n",
    "    data_train = pd.read_csv(\"/Users/sidil/Downloads/Telegram Desktop/Project_2/gold_recovery_train_new.csv\")\n",
    "except:\n",
    "    data_full = pd.read_csv(\"/datasets/gold_recovery_train_new.csv\")\n",
    "    data_test = pd.read_csv(\"/datasets/gold_recovery_test_new.csv\")\n",
    "    data_train = pd.read_csv(\"/datasets/gold_recovery_full_new.csv\")"
   ]
  },
  {
   "cell_type": "code",
   "execution_count": 3,
   "metadata": {
    "scrolled": true
   },
   "outputs": [
    {
     "data": {
      "text/html": [
       "<div>\n",
       "<style scoped>\n",
       "    .dataframe tbody tr th:only-of-type {\n",
       "        vertical-align: middle;\n",
       "    }\n",
       "\n",
       "    .dataframe tbody tr th {\n",
       "        vertical-align: top;\n",
       "    }\n",
       "\n",
       "    .dataframe thead th {\n",
       "        text-align: right;\n",
       "    }\n",
       "</style>\n",
       "<table border=\"1\" class=\"dataframe\">\n",
       "  <thead>\n",
       "    <tr style=\"text-align: right;\">\n",
       "      <th></th>\n",
       "      <th>final.output.concentrate_ag</th>\n",
       "      <th>final.output.concentrate_pb</th>\n",
       "      <th>final.output.concentrate_sol</th>\n",
       "      <th>final.output.concentrate_au</th>\n",
       "      <th>final.output.recovery</th>\n",
       "      <th>final.output.tail_ag</th>\n",
       "      <th>final.output.tail_pb</th>\n",
       "      <th>final.output.tail_sol</th>\n",
       "      <th>final.output.tail_au</th>\n",
       "      <th>primary_cleaner.input.sulfate</th>\n",
       "      <th>...</th>\n",
       "      <th>secondary_cleaner.state.floatbank4_a_air</th>\n",
       "      <th>secondary_cleaner.state.floatbank4_a_level</th>\n",
       "      <th>secondary_cleaner.state.floatbank4_b_air</th>\n",
       "      <th>secondary_cleaner.state.floatbank4_b_level</th>\n",
       "      <th>secondary_cleaner.state.floatbank5_a_air</th>\n",
       "      <th>secondary_cleaner.state.floatbank5_a_level</th>\n",
       "      <th>secondary_cleaner.state.floatbank5_b_air</th>\n",
       "      <th>secondary_cleaner.state.floatbank5_b_level</th>\n",
       "      <th>secondary_cleaner.state.floatbank6_a_air</th>\n",
       "      <th>secondary_cleaner.state.floatbank6_a_level</th>\n",
       "    </tr>\n",
       "  </thead>\n",
       "  <tbody>\n",
       "    <tr>\n",
       "      <th>0</th>\n",
       "      <td>6.055403</td>\n",
       "      <td>9.889648</td>\n",
       "      <td>5.507324</td>\n",
       "      <td>42.192020</td>\n",
       "      <td>70.541216</td>\n",
       "      <td>10.411962</td>\n",
       "      <td>0.895447</td>\n",
       "      <td>16.904297</td>\n",
       "      <td>2.143149</td>\n",
       "      <td>127.092003</td>\n",
       "      <td>...</td>\n",
       "      <td>14.016835</td>\n",
       "      <td>-502.488007</td>\n",
       "      <td>12.099931</td>\n",
       "      <td>-504.715942</td>\n",
       "      <td>9.925633</td>\n",
       "      <td>-498.310211</td>\n",
       "      <td>8.079666</td>\n",
       "      <td>-500.470978</td>\n",
       "      <td>14.151341</td>\n",
       "      <td>-605.841980</td>\n",
       "    </tr>\n",
       "    <tr>\n",
       "      <th>1</th>\n",
       "      <td>6.029369</td>\n",
       "      <td>9.968944</td>\n",
       "      <td>5.257781</td>\n",
       "      <td>42.701629</td>\n",
       "      <td>69.266198</td>\n",
       "      <td>10.462676</td>\n",
       "      <td>0.927452</td>\n",
       "      <td>16.634514</td>\n",
       "      <td>2.224930</td>\n",
       "      <td>125.629232</td>\n",
       "      <td>...</td>\n",
       "      <td>13.992281</td>\n",
       "      <td>-505.503262</td>\n",
       "      <td>11.950531</td>\n",
       "      <td>-501.331529</td>\n",
       "      <td>10.039245</td>\n",
       "      <td>-500.169983</td>\n",
       "      <td>7.984757</td>\n",
       "      <td>-500.582168</td>\n",
       "      <td>13.998353</td>\n",
       "      <td>-599.787184</td>\n",
       "    </tr>\n",
       "  </tbody>\n",
       "</table>\n",
       "<p>2 rows × 86 columns</p>\n",
       "</div>"
      ],
      "text/plain": [
       "   final.output.concentrate_ag  final.output.concentrate_pb  \\\n",
       "0                     6.055403                     9.889648   \n",
       "1                     6.029369                     9.968944   \n",
       "\n",
       "   final.output.concentrate_sol  final.output.concentrate_au  \\\n",
       "0                      5.507324                    42.192020   \n",
       "1                      5.257781                    42.701629   \n",
       "\n",
       "   final.output.recovery  final.output.tail_ag  final.output.tail_pb  \\\n",
       "0              70.541216             10.411962              0.895447   \n",
       "1              69.266198             10.462676              0.927452   \n",
       "\n",
       "   final.output.tail_sol  final.output.tail_au  primary_cleaner.input.sulfate  \\\n",
       "0              16.904297              2.143149                     127.092003   \n",
       "1              16.634514              2.224930                     125.629232   \n",
       "\n",
       "   ...  secondary_cleaner.state.floatbank4_a_air  \\\n",
       "0  ...                                 14.016835   \n",
       "1  ...                                 13.992281   \n",
       "\n",
       "   secondary_cleaner.state.floatbank4_a_level  \\\n",
       "0                                 -502.488007   \n",
       "1                                 -505.503262   \n",
       "\n",
       "   secondary_cleaner.state.floatbank4_b_air  \\\n",
       "0                                 12.099931   \n",
       "1                                 11.950531   \n",
       "\n",
       "   secondary_cleaner.state.floatbank4_b_level  \\\n",
       "0                                 -504.715942   \n",
       "1                                 -501.331529   \n",
       "\n",
       "   secondary_cleaner.state.floatbank5_a_air  \\\n",
       "0                                  9.925633   \n",
       "1                                 10.039245   \n",
       "\n",
       "   secondary_cleaner.state.floatbank5_a_level  \\\n",
       "0                                 -498.310211   \n",
       "1                                 -500.169983   \n",
       "\n",
       "   secondary_cleaner.state.floatbank5_b_air  \\\n",
       "0                                  8.079666   \n",
       "1                                  7.984757   \n",
       "\n",
       "   secondary_cleaner.state.floatbank5_b_level  \\\n",
       "0                                 -500.470978   \n",
       "1                                 -500.582168   \n",
       "\n",
       "   secondary_cleaner.state.floatbank6_a_air  \\\n",
       "0                                 14.151341   \n",
       "1                                 13.998353   \n",
       "\n",
       "   secondary_cleaner.state.floatbank6_a_level  \n",
       "0                                 -605.841980  \n",
       "1                                 -599.787184  \n",
       "\n",
       "[2 rows x 86 columns]"
      ]
     },
     "metadata": {},
     "output_type": "display_data"
    },
    {
     "name": "stdout",
     "output_type": "stream",
     "text": [
      "<class 'pandas.core.frame.DataFrame'>\n",
      "RangeIndex: 14149 entries, 0 to 14148\n",
      "Data columns (total 86 columns):\n",
      " #   Column                                              Non-Null Count  Dtype  \n",
      "---  ------                                              --------------  -----  \n",
      " 0   final.output.concentrate_ag                         14148 non-null  float64\n",
      " 1   final.output.concentrate_pb                         14148 non-null  float64\n",
      " 2   final.output.concentrate_sol                        13938 non-null  float64\n",
      " 3   final.output.concentrate_au                         14149 non-null  float64\n",
      " 4   final.output.recovery                               14149 non-null  float64\n",
      " 5   final.output.tail_ag                                14149 non-null  float64\n",
      " 6   final.output.tail_pb                                14049 non-null  float64\n",
      " 7   final.output.tail_sol                               14144 non-null  float64\n",
      " 8   final.output.tail_au                                14149 non-null  float64\n",
      " 9   primary_cleaner.input.sulfate                       14129 non-null  float64\n",
      " 10  primary_cleaner.input.depressant                    14117 non-null  float64\n",
      " 11  primary_cleaner.input.feed_size                     14149 non-null  float64\n",
      " 12  primary_cleaner.input.xanthate                      14049 non-null  float64\n",
      " 13  primary_cleaner.output.concentrate_ag               14149 non-null  float64\n",
      " 14  primary_cleaner.output.concentrate_pb               14063 non-null  float64\n",
      " 15  primary_cleaner.output.concentrate_sol              13863 non-null  float64\n",
      " 16  primary_cleaner.output.concentrate_au               14149 non-null  float64\n",
      " 17  primary_cleaner.output.tail_ag                      14148 non-null  float64\n",
      " 18  primary_cleaner.output.tail_pb                      14134 non-null  float64\n",
      " 19  primary_cleaner.output.tail_sol                     14103 non-null  float64\n",
      " 20  primary_cleaner.output.tail_au                      14149 non-null  float64\n",
      " 21  primary_cleaner.state.floatbank8_a_air              14145 non-null  float64\n",
      " 22  primary_cleaner.state.floatbank8_a_level            14148 non-null  float64\n",
      " 23  primary_cleaner.state.floatbank8_b_air              14145 non-null  float64\n",
      " 24  primary_cleaner.state.floatbank8_b_level            14148 non-null  float64\n",
      " 25  primary_cleaner.state.floatbank8_c_air              14147 non-null  float64\n",
      " 26  primary_cleaner.state.floatbank8_c_level            14148 non-null  float64\n",
      " 27  primary_cleaner.state.floatbank8_d_air              14146 non-null  float64\n",
      " 28  primary_cleaner.state.floatbank8_d_level            14148 non-null  float64\n",
      " 29  rougher.calculation.sulfate_to_au_concentrate       14148 non-null  float64\n",
      " 30  rougher.calculation.floatbank10_sulfate_to_au_feed  14148 non-null  float64\n",
      " 31  rougher.calculation.floatbank11_sulfate_to_au_feed  14148 non-null  float64\n",
      " 32  rougher.calculation.au_pb_ratio                     14149 non-null  float64\n",
      " 33  rougher.input.feed_ag                               14149 non-null  float64\n",
      " 34  rougher.input.feed_pb                               14049 non-null  float64\n",
      " 35  rougher.input.feed_rate                             14141 non-null  float64\n",
      " 36  rougher.input.feed_size                             14005 non-null  float64\n",
      " 37  rougher.input.feed_sol                              14071 non-null  float64\n",
      " 38  rougher.input.feed_au                               14149 non-null  float64\n",
      " 39  rougher.input.floatbank10_sulfate                   14120 non-null  float64\n",
      " 40  rougher.input.floatbank10_xanthate                  14141 non-null  float64\n",
      " 41  rougher.input.floatbank11_sulfate                   14113 non-null  float64\n",
      " 42  rougher.input.floatbank11_xanthate                  13721 non-null  float64\n",
      " 43  rougher.output.concentrate_ag                       14149 non-null  float64\n",
      " 44  rougher.output.concentrate_pb                       14149 non-null  float64\n",
      " 45  rougher.output.concentrate_sol                      14127 non-null  float64\n",
      " 46  rougher.output.concentrate_au                       14149 non-null  float64\n",
      " 47  rougher.output.recovery                             14149 non-null  float64\n",
      " 48  rougher.output.tail_ag                              14148 non-null  float64\n",
      " 49  rougher.output.tail_pb                              14149 non-null  float64\n",
      " 50  rougher.output.tail_sol                             14149 non-null  float64\n",
      " 51  rougher.output.tail_au                              14149 non-null  float64\n",
      " 52  rougher.state.floatbank10_a_air                     14148 non-null  float64\n",
      " 53  rougher.state.floatbank10_a_level                   14148 non-null  float64\n",
      " 54  rougher.state.floatbank10_b_air                     14148 non-null  float64\n",
      " 55  rougher.state.floatbank10_b_level                   14148 non-null  float64\n",
      " 56  rougher.state.floatbank10_c_air                     14148 non-null  float64\n",
      " 57  rougher.state.floatbank10_c_level                   14148 non-null  float64\n",
      " 58  rougher.state.floatbank10_d_air                     14149 non-null  float64\n",
      " 59  rougher.state.floatbank10_d_level                   14149 non-null  float64\n",
      " 60  rougher.state.floatbank10_e_air                     13713 non-null  float64\n",
      " 61  rougher.state.floatbank10_e_level                   14149 non-null  float64\n",
      " 62  rougher.state.floatbank10_f_air                     14149 non-null  float64\n",
      " 63  rougher.state.floatbank10_f_level                   14149 non-null  float64\n",
      " 64  secondary_cleaner.output.tail_ag                    14147 non-null  float64\n",
      " 65  secondary_cleaner.output.tail_pb                    14139 non-null  float64\n",
      " 66  secondary_cleaner.output.tail_sol                   12544 non-null  float64\n",
      " 67  secondary_cleaner.output.tail_au                    14149 non-null  float64\n",
      " 68  secondary_cleaner.state.floatbank2_a_air            13932 non-null  float64\n",
      " 69  secondary_cleaner.state.floatbank2_a_level          14148 non-null  float64\n",
      " 70  secondary_cleaner.state.floatbank2_b_air            14128 non-null  float64\n",
      " 71  secondary_cleaner.state.floatbank2_b_level          14148 non-null  float64\n",
      " 72  secondary_cleaner.state.floatbank3_a_air            14145 non-null  float64\n",
      " 73  secondary_cleaner.state.floatbank3_a_level          14148 non-null  float64\n",
      " 74  secondary_cleaner.state.floatbank3_b_air            14148 non-null  float64\n",
      " 75  secondary_cleaner.state.floatbank3_b_level          14148 non-null  float64\n",
      " 76  secondary_cleaner.state.floatbank4_a_air            14143 non-null  float64\n",
      " 77  secondary_cleaner.state.floatbank4_a_level          14148 non-null  float64\n",
      " 78  secondary_cleaner.state.floatbank4_b_air            14148 non-null  float64\n",
      " 79  secondary_cleaner.state.floatbank4_b_level          14148 non-null  float64\n",
      " 80  secondary_cleaner.state.floatbank5_a_air            14148 non-null  float64\n",
      " 81  secondary_cleaner.state.floatbank5_a_level          14148 non-null  float64\n",
      " 82  secondary_cleaner.state.floatbank5_b_air            14148 non-null  float64\n",
      " 83  secondary_cleaner.state.floatbank5_b_level          14148 non-null  float64\n",
      " 84  secondary_cleaner.state.floatbank6_a_air            14147 non-null  float64\n",
      " 85  secondary_cleaner.state.floatbank6_a_level          14148 non-null  float64\n",
      "dtypes: float64(86)\n",
      "memory usage: 9.3 MB\n"
     ]
    }
   ],
   "source": [
    "data_full = data_full.drop(['date'], axis = 1)\n",
    "\n",
    "display(data_full.head(2))\n",
    "\n",
    "data_full.info()"
   ]
  },
  {
   "cell_type": "code",
   "execution_count": 4,
   "metadata": {
    "scrolled": true
   },
   "outputs": [
    {
     "data": {
      "text/html": [
       "<div>\n",
       "<style scoped>\n",
       "    .dataframe tbody tr th:only-of-type {\n",
       "        vertical-align: middle;\n",
       "    }\n",
       "\n",
       "    .dataframe tbody tr th {\n",
       "        vertical-align: top;\n",
       "    }\n",
       "\n",
       "    .dataframe thead th {\n",
       "        text-align: right;\n",
       "    }\n",
       "</style>\n",
       "<table border=\"1\" class=\"dataframe\">\n",
       "  <thead>\n",
       "    <tr style=\"text-align: right;\">\n",
       "      <th></th>\n",
       "      <th>primary_cleaner.input.sulfate</th>\n",
       "      <th>primary_cleaner.input.depressant</th>\n",
       "      <th>primary_cleaner.input.feed_size</th>\n",
       "      <th>primary_cleaner.input.xanthate</th>\n",
       "      <th>primary_cleaner.state.floatbank8_a_air</th>\n",
       "      <th>primary_cleaner.state.floatbank8_a_level</th>\n",
       "      <th>primary_cleaner.state.floatbank8_b_air</th>\n",
       "      <th>primary_cleaner.state.floatbank8_b_level</th>\n",
       "      <th>primary_cleaner.state.floatbank8_c_air</th>\n",
       "      <th>primary_cleaner.state.floatbank8_c_level</th>\n",
       "      <th>...</th>\n",
       "      <th>secondary_cleaner.state.floatbank4_a_air</th>\n",
       "      <th>secondary_cleaner.state.floatbank4_a_level</th>\n",
       "      <th>secondary_cleaner.state.floatbank4_b_air</th>\n",
       "      <th>secondary_cleaner.state.floatbank4_b_level</th>\n",
       "      <th>secondary_cleaner.state.floatbank5_a_air</th>\n",
       "      <th>secondary_cleaner.state.floatbank5_a_level</th>\n",
       "      <th>secondary_cleaner.state.floatbank5_b_air</th>\n",
       "      <th>secondary_cleaner.state.floatbank5_b_level</th>\n",
       "      <th>secondary_cleaner.state.floatbank6_a_air</th>\n",
       "      <th>secondary_cleaner.state.floatbank6_a_level</th>\n",
       "    </tr>\n",
       "  </thead>\n",
       "  <tbody>\n",
       "    <tr>\n",
       "      <th>0</th>\n",
       "      <td>210.800909</td>\n",
       "      <td>14.993118</td>\n",
       "      <td>8.08</td>\n",
       "      <td>1.005021</td>\n",
       "      <td>1398.981301</td>\n",
       "      <td>-500.225577</td>\n",
       "      <td>1399.144926</td>\n",
       "      <td>-499.919735</td>\n",
       "      <td>1400.102998</td>\n",
       "      <td>-500.704369</td>\n",
       "      <td>...</td>\n",
       "      <td>12.023554</td>\n",
       "      <td>-497.795834</td>\n",
       "      <td>8.016656</td>\n",
       "      <td>-501.289139</td>\n",
       "      <td>7.946562</td>\n",
       "      <td>-432.317850</td>\n",
       "      <td>4.872511</td>\n",
       "      <td>-500.037437</td>\n",
       "      <td>26.705889</td>\n",
       "      <td>-499.709414</td>\n",
       "    </tr>\n",
       "    <tr>\n",
       "      <th>1</th>\n",
       "      <td>215.392455</td>\n",
       "      <td>14.987471</td>\n",
       "      <td>8.08</td>\n",
       "      <td>0.990469</td>\n",
       "      <td>1398.777912</td>\n",
       "      <td>-500.057435</td>\n",
       "      <td>1398.055362</td>\n",
       "      <td>-499.778182</td>\n",
       "      <td>1396.151033</td>\n",
       "      <td>-499.240168</td>\n",
       "      <td>...</td>\n",
       "      <td>12.058140</td>\n",
       "      <td>-498.695773</td>\n",
       "      <td>8.130979</td>\n",
       "      <td>-499.634209</td>\n",
       "      <td>7.958270</td>\n",
       "      <td>-525.839648</td>\n",
       "      <td>4.878850</td>\n",
       "      <td>-500.162375</td>\n",
       "      <td>25.019940</td>\n",
       "      <td>-499.819438</td>\n",
       "    </tr>\n",
       "  </tbody>\n",
       "</table>\n",
       "<p>2 rows × 52 columns</p>\n",
       "</div>"
      ],
      "text/plain": [
       "   primary_cleaner.input.sulfate  primary_cleaner.input.depressant  \\\n",
       "0                     210.800909                         14.993118   \n",
       "1                     215.392455                         14.987471   \n",
       "\n",
       "   primary_cleaner.input.feed_size  primary_cleaner.input.xanthate  \\\n",
       "0                             8.08                        1.005021   \n",
       "1                             8.08                        0.990469   \n",
       "\n",
       "   primary_cleaner.state.floatbank8_a_air  \\\n",
       "0                             1398.981301   \n",
       "1                             1398.777912   \n",
       "\n",
       "   primary_cleaner.state.floatbank8_a_level  \\\n",
       "0                               -500.225577   \n",
       "1                               -500.057435   \n",
       "\n",
       "   primary_cleaner.state.floatbank8_b_air  \\\n",
       "0                             1399.144926   \n",
       "1                             1398.055362   \n",
       "\n",
       "   primary_cleaner.state.floatbank8_b_level  \\\n",
       "0                               -499.919735   \n",
       "1                               -499.778182   \n",
       "\n",
       "   primary_cleaner.state.floatbank8_c_air  \\\n",
       "0                             1400.102998   \n",
       "1                             1396.151033   \n",
       "\n",
       "   primary_cleaner.state.floatbank8_c_level  ...  \\\n",
       "0                               -500.704369  ...   \n",
       "1                               -499.240168  ...   \n",
       "\n",
       "   secondary_cleaner.state.floatbank4_a_air  \\\n",
       "0                                 12.023554   \n",
       "1                                 12.058140   \n",
       "\n",
       "   secondary_cleaner.state.floatbank4_a_level  \\\n",
       "0                                 -497.795834   \n",
       "1                                 -498.695773   \n",
       "\n",
       "   secondary_cleaner.state.floatbank4_b_air  \\\n",
       "0                                  8.016656   \n",
       "1                                  8.130979   \n",
       "\n",
       "   secondary_cleaner.state.floatbank4_b_level  \\\n",
       "0                                 -501.289139   \n",
       "1                                 -499.634209   \n",
       "\n",
       "   secondary_cleaner.state.floatbank5_a_air  \\\n",
       "0                                  7.946562   \n",
       "1                                  7.958270   \n",
       "\n",
       "   secondary_cleaner.state.floatbank5_a_level  \\\n",
       "0                                 -432.317850   \n",
       "1                                 -525.839648   \n",
       "\n",
       "   secondary_cleaner.state.floatbank5_b_air  \\\n",
       "0                                  4.872511   \n",
       "1                                  4.878850   \n",
       "\n",
       "   secondary_cleaner.state.floatbank5_b_level  \\\n",
       "0                                 -500.037437   \n",
       "1                                 -500.162375   \n",
       "\n",
       "   secondary_cleaner.state.floatbank6_a_air  \\\n",
       "0                                 26.705889   \n",
       "1                                 25.019940   \n",
       "\n",
       "   secondary_cleaner.state.floatbank6_a_level  \n",
       "0                                 -499.709414  \n",
       "1                                 -499.819438  \n",
       "\n",
       "[2 rows x 52 columns]"
      ]
     },
     "metadata": {},
     "output_type": "display_data"
    },
    {
     "name": "stdout",
     "output_type": "stream",
     "text": [
      "<class 'pandas.core.frame.DataFrame'>\n",
      "RangeIndex: 5290 entries, 0 to 5289\n",
      "Data columns (total 52 columns):\n",
      " #   Column                                      Non-Null Count  Dtype  \n",
      "---  ------                                      --------------  -----  \n",
      " 0   primary_cleaner.input.sulfate               5286 non-null   float64\n",
      " 1   primary_cleaner.input.depressant            5285 non-null   float64\n",
      " 2   primary_cleaner.input.feed_size             5290 non-null   float64\n",
      " 3   primary_cleaner.input.xanthate              5286 non-null   float64\n",
      " 4   primary_cleaner.state.floatbank8_a_air      5290 non-null   float64\n",
      " 5   primary_cleaner.state.floatbank8_a_level    5290 non-null   float64\n",
      " 6   primary_cleaner.state.floatbank8_b_air      5290 non-null   float64\n",
      " 7   primary_cleaner.state.floatbank8_b_level    5290 non-null   float64\n",
      " 8   primary_cleaner.state.floatbank8_c_air      5290 non-null   float64\n",
      " 9   primary_cleaner.state.floatbank8_c_level    5290 non-null   float64\n",
      " 10  primary_cleaner.state.floatbank8_d_air      5290 non-null   float64\n",
      " 11  primary_cleaner.state.floatbank8_d_level    5290 non-null   float64\n",
      " 12  rougher.input.feed_ag                       5290 non-null   float64\n",
      " 13  rougher.input.feed_pb                       5290 non-null   float64\n",
      " 14  rougher.input.feed_rate                     5287 non-null   float64\n",
      " 15  rougher.input.feed_size                     5289 non-null   float64\n",
      " 16  rougher.input.feed_sol                      5269 non-null   float64\n",
      " 17  rougher.input.feed_au                       5290 non-null   float64\n",
      " 18  rougher.input.floatbank10_sulfate           5285 non-null   float64\n",
      " 19  rougher.input.floatbank10_xanthate          5290 non-null   float64\n",
      " 20  rougher.input.floatbank11_sulfate           5282 non-null   float64\n",
      " 21  rougher.input.floatbank11_xanthate          5265 non-null   float64\n",
      " 22  rougher.state.floatbank10_a_air             5290 non-null   float64\n",
      " 23  rougher.state.floatbank10_a_level           5290 non-null   float64\n",
      " 24  rougher.state.floatbank10_b_air             5290 non-null   float64\n",
      " 25  rougher.state.floatbank10_b_level           5290 non-null   float64\n",
      " 26  rougher.state.floatbank10_c_air             5290 non-null   float64\n",
      " 27  rougher.state.floatbank10_c_level           5290 non-null   float64\n",
      " 28  rougher.state.floatbank10_d_air             5290 non-null   float64\n",
      " 29  rougher.state.floatbank10_d_level           5290 non-null   float64\n",
      " 30  rougher.state.floatbank10_e_air             5290 non-null   float64\n",
      " 31  rougher.state.floatbank10_e_level           5290 non-null   float64\n",
      " 32  rougher.state.floatbank10_f_air             5290 non-null   float64\n",
      " 33  rougher.state.floatbank10_f_level           5290 non-null   float64\n",
      " 34  secondary_cleaner.state.floatbank2_a_air    5287 non-null   float64\n",
      " 35  secondary_cleaner.state.floatbank2_a_level  5290 non-null   float64\n",
      " 36  secondary_cleaner.state.floatbank2_b_air    5288 non-null   float64\n",
      " 37  secondary_cleaner.state.floatbank2_b_level  5290 non-null   float64\n",
      " 38  secondary_cleaner.state.floatbank3_a_air    5281 non-null   float64\n",
      " 39  secondary_cleaner.state.floatbank3_a_level  5290 non-null   float64\n",
      " 40  secondary_cleaner.state.floatbank3_b_air    5290 non-null   float64\n",
      " 41  secondary_cleaner.state.floatbank3_b_level  5290 non-null   float64\n",
      " 42  secondary_cleaner.state.floatbank4_a_air    5290 non-null   float64\n",
      " 43  secondary_cleaner.state.floatbank4_a_level  5290 non-null   float64\n",
      " 44  secondary_cleaner.state.floatbank4_b_air    5290 non-null   float64\n",
      " 45  secondary_cleaner.state.floatbank4_b_level  5290 non-null   float64\n",
      " 46  secondary_cleaner.state.floatbank5_a_air    5290 non-null   float64\n",
      " 47  secondary_cleaner.state.floatbank5_a_level  5290 non-null   float64\n",
      " 48  secondary_cleaner.state.floatbank5_b_air    5290 non-null   float64\n",
      " 49  secondary_cleaner.state.floatbank5_b_level  5290 non-null   float64\n",
      " 50  secondary_cleaner.state.floatbank6_a_air    5290 non-null   float64\n",
      " 51  secondary_cleaner.state.floatbank6_a_level  5290 non-null   float64\n",
      "dtypes: float64(52)\n",
      "memory usage: 2.1 MB\n"
     ]
    }
   ],
   "source": [
    "data_test = data_test.drop(['date'], axis = 1)\n",
    "display(data_test.head(2))\n",
    "data_test.info()"
   ]
  },
  {
   "cell_type": "code",
   "execution_count": 5,
   "metadata": {
    "scrolled": true
   },
   "outputs": [
    {
     "data": {
      "text/html": [
       "<div>\n",
       "<style scoped>\n",
       "    .dataframe tbody tr th:only-of-type {\n",
       "        vertical-align: middle;\n",
       "    }\n",
       "\n",
       "    .dataframe tbody tr th {\n",
       "        vertical-align: top;\n",
       "    }\n",
       "\n",
       "    .dataframe thead th {\n",
       "        text-align: right;\n",
       "    }\n",
       "</style>\n",
       "<table border=\"1\" class=\"dataframe\">\n",
       "  <thead>\n",
       "    <tr style=\"text-align: right;\">\n",
       "      <th></th>\n",
       "      <th>final.output.concentrate_ag</th>\n",
       "      <th>final.output.concentrate_pb</th>\n",
       "      <th>final.output.concentrate_sol</th>\n",
       "      <th>final.output.concentrate_au</th>\n",
       "      <th>final.output.recovery</th>\n",
       "      <th>final.output.tail_ag</th>\n",
       "      <th>final.output.tail_pb</th>\n",
       "      <th>final.output.tail_sol</th>\n",
       "      <th>final.output.tail_au</th>\n",
       "      <th>primary_cleaner.input.sulfate</th>\n",
       "      <th>...</th>\n",
       "      <th>secondary_cleaner.state.floatbank4_a_air</th>\n",
       "      <th>secondary_cleaner.state.floatbank4_a_level</th>\n",
       "      <th>secondary_cleaner.state.floatbank4_b_air</th>\n",
       "      <th>secondary_cleaner.state.floatbank4_b_level</th>\n",
       "      <th>secondary_cleaner.state.floatbank5_a_air</th>\n",
       "      <th>secondary_cleaner.state.floatbank5_a_level</th>\n",
       "      <th>secondary_cleaner.state.floatbank5_b_air</th>\n",
       "      <th>secondary_cleaner.state.floatbank5_b_level</th>\n",
       "      <th>secondary_cleaner.state.floatbank6_a_air</th>\n",
       "      <th>secondary_cleaner.state.floatbank6_a_level</th>\n",
       "    </tr>\n",
       "  </thead>\n",
       "  <tbody>\n",
       "    <tr>\n",
       "      <th>0</th>\n",
       "      <td>6.055403</td>\n",
       "      <td>9.889648</td>\n",
       "      <td>5.507324</td>\n",
       "      <td>42.192020</td>\n",
       "      <td>70.541216</td>\n",
       "      <td>10.411962</td>\n",
       "      <td>0.895447</td>\n",
       "      <td>16.904297</td>\n",
       "      <td>2.143149</td>\n",
       "      <td>127.092003</td>\n",
       "      <td>...</td>\n",
       "      <td>14.016835</td>\n",
       "      <td>-502.488007</td>\n",
       "      <td>12.099931</td>\n",
       "      <td>-504.715942</td>\n",
       "      <td>9.925633</td>\n",
       "      <td>-498.310211</td>\n",
       "      <td>8.079666</td>\n",
       "      <td>-500.470978</td>\n",
       "      <td>14.151341</td>\n",
       "      <td>-605.841980</td>\n",
       "    </tr>\n",
       "    <tr>\n",
       "      <th>1</th>\n",
       "      <td>6.029369</td>\n",
       "      <td>9.968944</td>\n",
       "      <td>5.257781</td>\n",
       "      <td>42.701629</td>\n",
       "      <td>69.266198</td>\n",
       "      <td>10.462676</td>\n",
       "      <td>0.927452</td>\n",
       "      <td>16.634514</td>\n",
       "      <td>2.224930</td>\n",
       "      <td>125.629232</td>\n",
       "      <td>...</td>\n",
       "      <td>13.992281</td>\n",
       "      <td>-505.503262</td>\n",
       "      <td>11.950531</td>\n",
       "      <td>-501.331529</td>\n",
       "      <td>10.039245</td>\n",
       "      <td>-500.169983</td>\n",
       "      <td>7.984757</td>\n",
       "      <td>-500.582168</td>\n",
       "      <td>13.998353</td>\n",
       "      <td>-599.787184</td>\n",
       "    </tr>\n",
       "  </tbody>\n",
       "</table>\n",
       "<p>2 rows × 86 columns</p>\n",
       "</div>"
      ],
      "text/plain": [
       "   final.output.concentrate_ag  final.output.concentrate_pb  \\\n",
       "0                     6.055403                     9.889648   \n",
       "1                     6.029369                     9.968944   \n",
       "\n",
       "   final.output.concentrate_sol  final.output.concentrate_au  \\\n",
       "0                      5.507324                    42.192020   \n",
       "1                      5.257781                    42.701629   \n",
       "\n",
       "   final.output.recovery  final.output.tail_ag  final.output.tail_pb  \\\n",
       "0              70.541216             10.411962              0.895447   \n",
       "1              69.266198             10.462676              0.927452   \n",
       "\n",
       "   final.output.tail_sol  final.output.tail_au  primary_cleaner.input.sulfate  \\\n",
       "0              16.904297              2.143149                     127.092003   \n",
       "1              16.634514              2.224930                     125.629232   \n",
       "\n",
       "   ...  secondary_cleaner.state.floatbank4_a_air  \\\n",
       "0  ...                                 14.016835   \n",
       "1  ...                                 13.992281   \n",
       "\n",
       "   secondary_cleaner.state.floatbank4_a_level  \\\n",
       "0                                 -502.488007   \n",
       "1                                 -505.503262   \n",
       "\n",
       "   secondary_cleaner.state.floatbank4_b_air  \\\n",
       "0                                 12.099931   \n",
       "1                                 11.950531   \n",
       "\n",
       "   secondary_cleaner.state.floatbank4_b_level  \\\n",
       "0                                 -504.715942   \n",
       "1                                 -501.331529   \n",
       "\n",
       "   secondary_cleaner.state.floatbank5_a_air  \\\n",
       "0                                  9.925633   \n",
       "1                                 10.039245   \n",
       "\n",
       "   secondary_cleaner.state.floatbank5_a_level  \\\n",
       "0                                 -498.310211   \n",
       "1                                 -500.169983   \n",
       "\n",
       "   secondary_cleaner.state.floatbank5_b_air  \\\n",
       "0                                  8.079666   \n",
       "1                                  7.984757   \n",
       "\n",
       "   secondary_cleaner.state.floatbank5_b_level  \\\n",
       "0                                 -500.470978   \n",
       "1                                 -500.582168   \n",
       "\n",
       "   secondary_cleaner.state.floatbank6_a_air  \\\n",
       "0                                 14.151341   \n",
       "1                                 13.998353   \n",
       "\n",
       "   secondary_cleaner.state.floatbank6_a_level  \n",
       "0                                 -605.841980  \n",
       "1                                 -599.787184  \n",
       "\n",
       "[2 rows x 86 columns]"
      ]
     },
     "metadata": {},
     "output_type": "display_data"
    },
    {
     "name": "stdout",
     "output_type": "stream",
     "text": [
      "<class 'pandas.core.frame.DataFrame'>\n",
      "RangeIndex: 19439 entries, 0 to 19438\n",
      "Data columns (total 86 columns):\n",
      " #   Column                                              Non-Null Count  Dtype  \n",
      "---  ------                                              --------------  -----  \n",
      " 0   final.output.concentrate_ag                         19438 non-null  float64\n",
      " 1   final.output.concentrate_pb                         19438 non-null  float64\n",
      " 2   final.output.concentrate_sol                        19228 non-null  float64\n",
      " 3   final.output.concentrate_au                         19439 non-null  float64\n",
      " 4   final.output.recovery                               19439 non-null  float64\n",
      " 5   final.output.tail_ag                                19438 non-null  float64\n",
      " 6   final.output.tail_pb                                19338 non-null  float64\n",
      " 7   final.output.tail_sol                               19433 non-null  float64\n",
      " 8   final.output.tail_au                                19439 non-null  float64\n",
      " 9   primary_cleaner.input.sulfate                       19415 non-null  float64\n",
      " 10  primary_cleaner.input.depressant                    19402 non-null  float64\n",
      " 11  primary_cleaner.input.feed_size                     19439 non-null  float64\n",
      " 12  primary_cleaner.input.xanthate                      19335 non-null  float64\n",
      " 13  primary_cleaner.output.concentrate_ag               19439 non-null  float64\n",
      " 14  primary_cleaner.output.concentrate_pb               19323 non-null  float64\n",
      " 15  primary_cleaner.output.concentrate_sol              19069 non-null  float64\n",
      " 16  primary_cleaner.output.concentrate_au               19439 non-null  float64\n",
      " 17  primary_cleaner.output.tail_ag                      19435 non-null  float64\n",
      " 18  primary_cleaner.output.tail_pb                      19418 non-null  float64\n",
      " 19  primary_cleaner.output.tail_sol                     19377 non-null  float64\n",
      " 20  primary_cleaner.output.tail_au                      19439 non-null  float64\n",
      " 21  primary_cleaner.state.floatbank8_a_air              19435 non-null  float64\n",
      " 22  primary_cleaner.state.floatbank8_a_level            19438 non-null  float64\n",
      " 23  primary_cleaner.state.floatbank8_b_air              19435 non-null  float64\n",
      " 24  primary_cleaner.state.floatbank8_b_level            19438 non-null  float64\n",
      " 25  primary_cleaner.state.floatbank8_c_air              19437 non-null  float64\n",
      " 26  primary_cleaner.state.floatbank8_c_level            19438 non-null  float64\n",
      " 27  primary_cleaner.state.floatbank8_d_air              19436 non-null  float64\n",
      " 28  primary_cleaner.state.floatbank8_d_level            19438 non-null  float64\n",
      " 29  rougher.calculation.sulfate_to_au_concentrate       19437 non-null  float64\n",
      " 30  rougher.calculation.floatbank10_sulfate_to_au_feed  19437 non-null  float64\n",
      " 31  rougher.calculation.floatbank11_sulfate_to_au_feed  19437 non-null  float64\n",
      " 32  rougher.calculation.au_pb_ratio                     19439 non-null  float64\n",
      " 33  rougher.input.feed_ag                               19439 non-null  float64\n",
      " 34  rougher.input.feed_pb                               19339 non-null  float64\n",
      " 35  rougher.input.feed_rate                             19428 non-null  float64\n",
      " 36  rougher.input.feed_size                             19294 non-null  float64\n",
      " 37  rougher.input.feed_sol                              19340 non-null  float64\n",
      " 38  rougher.input.feed_au                               19439 non-null  float64\n",
      " 39  rougher.input.floatbank10_sulfate                   19405 non-null  float64\n",
      " 40  rougher.input.floatbank10_xanthate                  19431 non-null  float64\n",
      " 41  rougher.input.floatbank11_sulfate                   19395 non-null  float64\n",
      " 42  rougher.input.floatbank11_xanthate                  18986 non-null  float64\n",
      " 43  rougher.output.concentrate_ag                       19439 non-null  float64\n",
      " 44  rougher.output.concentrate_pb                       19439 non-null  float64\n",
      " 45  rougher.output.concentrate_sol                      19416 non-null  float64\n",
      " 46  rougher.output.concentrate_au                       19439 non-null  float64\n",
      " 47  rougher.output.recovery                             19439 non-null  float64\n",
      " 48  rougher.output.tail_ag                              19438 non-null  float64\n",
      " 49  rougher.output.tail_pb                              19439 non-null  float64\n",
      " 50  rougher.output.tail_sol                             19439 non-null  float64\n",
      " 51  rougher.output.tail_au                              19439 non-null  float64\n",
      " 52  rougher.state.floatbank10_a_air                     19438 non-null  float64\n",
      " 53  rougher.state.floatbank10_a_level                   19438 non-null  float64\n",
      " 54  rougher.state.floatbank10_b_air                     19438 non-null  float64\n",
      " 55  rougher.state.floatbank10_b_level                   19438 non-null  float64\n",
      " 56  rougher.state.floatbank10_c_air                     19438 non-null  float64\n",
      " 57  rougher.state.floatbank10_c_level                   19438 non-null  float64\n",
      " 58  rougher.state.floatbank10_d_air                     19439 non-null  float64\n",
      " 59  rougher.state.floatbank10_d_level                   19439 non-null  float64\n",
      " 60  rougher.state.floatbank10_e_air                     19003 non-null  float64\n",
      " 61  rougher.state.floatbank10_e_level                   19439 non-null  float64\n",
      " 62  rougher.state.floatbank10_f_air                     19439 non-null  float64\n",
      " 63  rougher.state.floatbank10_f_level                   19439 non-null  float64\n",
      " 64  secondary_cleaner.output.tail_ag                    19437 non-null  float64\n",
      " 65  secondary_cleaner.output.tail_pb                    19427 non-null  float64\n",
      " 66  secondary_cleaner.output.tail_sol                   17691 non-null  float64\n",
      " 67  secondary_cleaner.output.tail_au                    19439 non-null  float64\n",
      " 68  secondary_cleaner.state.floatbank2_a_air            19219 non-null  float64\n",
      " 69  secondary_cleaner.state.floatbank2_a_level          19438 non-null  float64\n",
      " 70  secondary_cleaner.state.floatbank2_b_air            19416 non-null  float64\n",
      " 71  secondary_cleaner.state.floatbank2_b_level          19438 non-null  float64\n",
      " 72  secondary_cleaner.state.floatbank3_a_air            19426 non-null  float64\n",
      " 73  secondary_cleaner.state.floatbank3_a_level          19438 non-null  float64\n",
      " 74  secondary_cleaner.state.floatbank3_b_air            19438 non-null  float64\n",
      " 75  secondary_cleaner.state.floatbank3_b_level          19438 non-null  float64\n",
      " 76  secondary_cleaner.state.floatbank4_a_air            19433 non-null  float64\n",
      " 77  secondary_cleaner.state.floatbank4_a_level          19438 non-null  float64\n",
      " 78  secondary_cleaner.state.floatbank4_b_air            19438 non-null  float64\n",
      " 79  secondary_cleaner.state.floatbank4_b_level          19438 non-null  float64\n",
      " 80  secondary_cleaner.state.floatbank5_a_air            19438 non-null  float64\n",
      " 81  secondary_cleaner.state.floatbank5_a_level          19438 non-null  float64\n",
      " 82  secondary_cleaner.state.floatbank5_b_air            19438 non-null  float64\n",
      " 83  secondary_cleaner.state.floatbank5_b_level          19438 non-null  float64\n",
      " 84  secondary_cleaner.state.floatbank6_a_air            19437 non-null  float64\n",
      " 85  secondary_cleaner.state.floatbank6_a_level          19438 non-null  float64\n",
      "dtypes: float64(86)\n",
      "memory usage: 12.8 MB\n"
     ]
    }
   ],
   "source": [
    "data_train = data_train.drop(['date'], axis = 1)\n",
    "display(data_train.head(2))\n",
    "data_train.info()"
   ]
  },
  {
   "cell_type": "code",
   "execution_count": 6,
   "metadata": {},
   "outputs": [
    {
     "name": "stdout",
     "output_type": "stream",
     "text": [
      "Количество полных дубликатов в исходном файле: 0\n"
     ]
    }
   ],
   "source": [
    "# проверяем наличие дубликатов\n",
    "print('Количество полных дубликатов в исходном файле:', data_full.duplicated().sum())"
   ]
  },
  {
   "cell_type": "code",
   "execution_count": 7,
   "metadata": {},
   "outputs": [
    {
     "data": {
      "text/html": [
       "<div>\n",
       "<style scoped>\n",
       "    .dataframe tbody tr th:only-of-type {\n",
       "        vertical-align: middle;\n",
       "    }\n",
       "\n",
       "    .dataframe tbody tr th {\n",
       "        vertical-align: top;\n",
       "    }\n",
       "\n",
       "    .dataframe thead th {\n",
       "        text-align: right;\n",
       "    }\n",
       "</style>\n",
       "<table border=\"1\" class=\"dataframe\">\n",
       "  <thead>\n",
       "    <tr style=\"text-align: right;\">\n",
       "      <th></th>\n",
       "      <th>parameter</th>\n",
       "      <th>null_qnt</th>\n",
       "      <th>null_share</th>\n",
       "    </tr>\n",
       "  </thead>\n",
       "  <tbody>\n",
       "    <tr>\n",
       "      <th>0</th>\n",
       "      <td>secondary_cleaner.output.tail_sol</td>\n",
       "      <td>1605</td>\n",
       "      <td>11.343558</td>\n",
       "    </tr>\n",
       "    <tr>\n",
       "      <th>1</th>\n",
       "      <td>rougher.state.floatbank10_e_air</td>\n",
       "      <td>436</td>\n",
       "      <td>3.081490</td>\n",
       "    </tr>\n",
       "    <tr>\n",
       "      <th>2</th>\n",
       "      <td>rougher.input.floatbank11_xanthate</td>\n",
       "      <td>428</td>\n",
       "      <td>3.024949</td>\n",
       "    </tr>\n",
       "    <tr>\n",
       "      <th>3</th>\n",
       "      <td>primary_cleaner.output.concentrate_sol</td>\n",
       "      <td>286</td>\n",
       "      <td>2.021344</td>\n",
       "    </tr>\n",
       "    <tr>\n",
       "      <th>4</th>\n",
       "      <td>secondary_cleaner.state.floatbank2_a_air</td>\n",
       "      <td>217</td>\n",
       "      <td>1.533677</td>\n",
       "    </tr>\n",
       "  </tbody>\n",
       "</table>\n",
       "</div>"
      ],
      "text/plain": [
       "                                  parameter  null_qnt  null_share\n",
       "0         secondary_cleaner.output.tail_sol      1605   11.343558\n",
       "1           rougher.state.floatbank10_e_air       436    3.081490\n",
       "2        rougher.input.floatbank11_xanthate       428    3.024949\n",
       "3    primary_cleaner.output.concentrate_sol       286    2.021344\n",
       "4  secondary_cleaner.state.floatbank2_a_air       217    1.533677"
      ]
     },
     "metadata": {},
     "output_type": "display_data"
    }
   ],
   "source": [
    "# проверяем пропущенные значения в иcходном файле\n",
    "data_full_null = data_full.isna().sum().sort_values(ascending=False).to_frame(name='null_qnt')\n",
    "data_full_null['null_share'] = data_full_null['null_qnt'] / len(data_full) *100\n",
    "data_full_null = data_full_null.reset_index().rename(columns={\"index\":'parameter'})\n",
    "data_full_null = data_full_null[data_full_null['null_qnt'] != 0]\n",
    "display(data_full_null.head())"
   ]
  },
  {
   "cell_type": "code",
   "execution_count": 8,
   "metadata": {},
   "outputs": [
    {
     "data": {
      "image/png": "[encoded data removed]",
      "text/plain": [
       "<Figure size 432x288 with 1 Axes>"
      ]
     },
     "metadata": {
      "needs_background": "light"
     },
     "output_type": "display_data"
    }
   ],
   "source": [
    "# провереям распределение данных по признаку с максимальным количеством пропущенных значений (11%)\n",
    "data_full['secondary_cleaner.output.tail_sol']\\\n",
    ".plot(kind = 'hist', \\\n",
    "      bins=100, title='Распределение данных по признаку secondary_cleaner.output.tail_sol');"
   ]
  },
  {
   "cell_type": "code",
   "execution_count": 9,
   "metadata": {},
   "outputs": [
    {
     "data": {
      "text/plain": [
       "count    12544.000000\n",
       "mean         6.938693\n",
       "std          4.155487\n",
       "min          0.000000\n",
       "25%          3.225486\n",
       "50%          7.302639\n",
       "75%         10.547068\n",
       "max         17.976171\n",
       "Name: secondary_cleaner.output.tail_sol, dtype: float64"
      ]
     },
     "execution_count": 9,
     "metadata": {},
     "output_type": "execute_result"
    }
   ],
   "source": [
    "# выводим стат информацию по параметру\n",
    "data_full['secondary_cleaner.output.tail_sol'].describe()"
   ]
  },
  {
   "cell_type": "code",
   "execution_count": 10,
   "metadata": {},
   "outputs": [
    {
     "data": {
      "text/html": [
       "<div>\n",
       "<style scoped>\n",
       "    .dataframe tbody tr th:only-of-type {\n",
       "        vertical-align: middle;\n",
       "    }\n",
       "\n",
       "    .dataframe tbody tr th {\n",
       "        vertical-align: top;\n",
       "    }\n",
       "\n",
       "    .dataframe thead th {\n",
       "        text-align: right;\n",
       "    }\n",
       "</style>\n",
       "<table border=\"1\" class=\"dataframe\">\n",
       "  <thead>\n",
       "    <tr style=\"text-align: right;\">\n",
       "      <th></th>\n",
       "      <th>parameter</th>\n",
       "      <th>null_qnt</th>\n",
       "      <th>null_share</th>\n",
       "    </tr>\n",
       "  </thead>\n",
       "  <tbody>\n",
       "    <tr>\n",
       "      <th>0</th>\n",
       "      <td>secondary_cleaner.output.tail_sol</td>\n",
       "      <td>1748</td>\n",
       "      <td>8.992232</td>\n",
       "    </tr>\n",
       "    <tr>\n",
       "      <th>1</th>\n",
       "      <td>rougher.input.floatbank11_xanthate</td>\n",
       "      <td>453</td>\n",
       "      <td>2.330367</td>\n",
       "    </tr>\n",
       "    <tr>\n",
       "      <th>2</th>\n",
       "      <td>rougher.state.floatbank10_e_air</td>\n",
       "      <td>436</td>\n",
       "      <td>2.242914</td>\n",
       "    </tr>\n",
       "    <tr>\n",
       "      <th>3</th>\n",
       "      <td>primary_cleaner.output.concentrate_sol</td>\n",
       "      <td>370</td>\n",
       "      <td>1.903390</td>\n",
       "    </tr>\n",
       "    <tr>\n",
       "      <th>4</th>\n",
       "      <td>secondary_cleaner.state.floatbank2_a_air</td>\n",
       "      <td>220</td>\n",
       "      <td>1.131745</td>\n",
       "    </tr>\n",
       "  </tbody>\n",
       "</table>\n",
       "</div>"
      ],
      "text/plain": [
       "                                  parameter  null_qnt  null_share\n",
       "0         secondary_cleaner.output.tail_sol      1748    8.992232\n",
       "1        rougher.input.floatbank11_xanthate       453    2.330367\n",
       "2           rougher.state.floatbank10_e_air       436    2.242914\n",
       "3    primary_cleaner.output.concentrate_sol       370    1.903390\n",
       "4  secondary_cleaner.state.floatbank2_a_air       220    1.131745"
      ]
     },
     "metadata": {},
     "output_type": "display_data"
    }
   ],
   "source": [
    "# проверяем пропущенные значения в обучающей выборке\n",
    "data_train_null = data_train.isna().sum().sort_values(ascending=False).to_frame(name='null_qnt')\n",
    "data_train_null['null_share'] = data_train_null['null_qnt'] / len(data_train) *100\n",
    "data_train_null = data_train_null.reset_index().rename(columns={\"index\":'parameter'})\n",
    "data_train_null = data_train_null[data_train_null['null_qnt'] != 0]\n",
    "display(data_train_null.head())"
   ]
  },
  {
   "cell_type": "code",
   "execution_count": 11,
   "metadata": {},
   "outputs": [
    {
     "data": {
      "text/html": [
       "<div>\n",
       "<style scoped>\n",
       "    .dataframe tbody tr th:only-of-type {\n",
       "        vertical-align: middle;\n",
       "    }\n",
       "\n",
       "    .dataframe tbody tr th {\n",
       "        vertical-align: top;\n",
       "    }\n",
       "\n",
       "    .dataframe thead th {\n",
       "        text-align: right;\n",
       "    }\n",
       "</style>\n",
       "<table border=\"1\" class=\"dataframe\">\n",
       "  <thead>\n",
       "    <tr style=\"text-align: right;\">\n",
       "      <th></th>\n",
       "      <th>parameter</th>\n",
       "      <th>null_qnt</th>\n",
       "      <th>null_share</th>\n",
       "    </tr>\n",
       "  </thead>\n",
       "  <tbody>\n",
       "    <tr>\n",
       "      <th>0</th>\n",
       "      <td>rougher.input.floatbank11_xanthate</td>\n",
       "      <td>25</td>\n",
       "      <td>0.472590</td>\n",
       "    </tr>\n",
       "    <tr>\n",
       "      <th>1</th>\n",
       "      <td>rougher.input.feed_sol</td>\n",
       "      <td>21</td>\n",
       "      <td>0.396975</td>\n",
       "    </tr>\n",
       "    <tr>\n",
       "      <th>2</th>\n",
       "      <td>secondary_cleaner.state.floatbank3_a_air</td>\n",
       "      <td>9</td>\n",
       "      <td>0.170132</td>\n",
       "    </tr>\n",
       "    <tr>\n",
       "      <th>3</th>\n",
       "      <td>rougher.input.floatbank11_sulfate</td>\n",
       "      <td>8</td>\n",
       "      <td>0.151229</td>\n",
       "    </tr>\n",
       "    <tr>\n",
       "      <th>4</th>\n",
       "      <td>primary_cleaner.input.depressant</td>\n",
       "      <td>5</td>\n",
       "      <td>0.094518</td>\n",
       "    </tr>\n",
       "  </tbody>\n",
       "</table>\n",
       "</div>"
      ],
      "text/plain": [
       "                                  parameter  null_qnt  null_share\n",
       "0        rougher.input.floatbank11_xanthate        25    0.472590\n",
       "1                    rougher.input.feed_sol        21    0.396975\n",
       "2  secondary_cleaner.state.floatbank3_a_air         9    0.170132\n",
       "3         rougher.input.floatbank11_sulfate         8    0.151229\n",
       "4          primary_cleaner.input.depressant         5    0.094518"
      ]
     },
     "metadata": {},
     "output_type": "display_data"
    }
   ],
   "source": [
    "# проверяем пропущенные значения в тестовой выборке\n",
    "data_test_null = data_test.isna().sum().sort_values(ascending=False).to_frame(name='null_qnt')\n",
    "data_test_null['null_share'] = data_test_null['null_qnt'] / len(data_test) *100\n",
    "data_test_null = data_test_null.reset_index().rename(columns={\"index\":'parameter'})\n",
    "data_test_null = data_test_null[data_test_null['null_qnt'] != 0]\n",
    "display(data_test_null.head())"
   ]
  },
  {
   "cell_type": "code",
   "execution_count": 12,
   "metadata": {},
   "outputs": [],
   "source": [
    "data_full['secondary_cleaner.output.tail_sol'] = data_full['secondary_cleaner.output.tail_sol'].replace(0, np.nan)\n",
    "\n",
    "data_train['secondary_cleaner.output.tail_sol'] = data_train['secondary_cleaner.output.tail_sol'].replace(0, np.nan)\n"
   ]
  },
  {
   "cell_type": "code",
   "execution_count": 13,
   "metadata": {
    "scrolled": true
   },
   "outputs": [],
   "source": [
    "# производим замену пропущенных значений\n",
    "data_full = data_full.fillna(method='ffill')\n",
    "data_train= data_train.fillna(method='ffill') \n",
    "data_test = data_test.fillna(method='ffill')\n",
    "\n",
    "#print('Количество пропущенных значений после замены в исходном файле:', data_full.isna().sum())\n",
    "#print('Количество пропущенных значений после замены в обучающей выборке:', data_train.isna().sum())\n",
    "#print('Количество пропущенных значений после замены в тестовой выборке:', data_test.isna().sum())"
   ]
  },
  {
   "cell_type": "code",
   "execution_count": 14,
   "metadata": {},
   "outputs": [
    {
     "data": {
      "image/png": "[encoded data removed]",
      "text/plain": [
       "<Figure size 432x288 with 1 Axes>"
      ]
     },
     "metadata": {
      "needs_background": "light"
     },
     "output_type": "display_data"
    }
   ],
   "source": [
    "# провереям распределение данных по признаку с максимальным количеством пропущенных значений (11%)\n",
    "data_full['secondary_cleaner.output.tail_sol']\\\n",
    ".plot(kind = 'hist', \\\n",
    "      bins=100, title='Распределение данных по признаку secondary_cleaner.output.tail_sol');"
   ]
  },
  {
   "cell_type": "code",
   "execution_count": 15,
   "metadata": {},
   "outputs": [
    {
     "data": {
      "text/plain": [
       "count    14149.000000\n",
       "mean         6.629233\n",
       "std          4.260775\n",
       "min          0.014898\n",
       "25%          2.589614\n",
       "50%          6.831858\n",
       "75%         10.460452\n",
       "max         17.976171\n",
       "Name: secondary_cleaner.output.tail_sol, dtype: float64"
      ]
     },
     "execution_count": 15,
     "metadata": {},
     "output_type": "execute_result"
    }
   ],
   "source": [
    "# выводим стат информацию по параметру\n",
    "data_full['secondary_cleaner.output.tail_sol'].describe()"
   ]
  },
  {
   "cell_type": "code",
   "execution_count": 16,
   "metadata": {},
   "outputs": [
    {
     "data": {
      "text/plain": [
       "(13795, 86)"
      ]
     },
     "metadata": {},
     "output_type": "display_data"
    },
    {
     "data": {
      "text/plain": [
       "(18949, 86)"
      ]
     },
     "metadata": {},
     "output_type": "display_data"
    }
   ],
   "source": [
    "# отфильтровываем объекты с нулевыми значениями переменных из выборок\n",
    "data_full = data_full[data_full['rougher.output.recovery'] > 0]\n",
    "data_full = data_full[data_full['final.output.recovery'] > 0]\n",
    "\n",
    "data_train = data_train[data_train['rougher.output.recovery'] > 0]\n",
    "data_train = data_train[data_train['final.output.recovery'] > 0]\n",
    "\n",
    "display(data_full.shape)\n",
    "display(data_train.shape)"
   ]
  },
  {
   "cell_type": "markdown",
   "metadata": {},
   "source": [
    "## Анализ данных"
   ]
  },
  {
   "cell_type": "code",
   "execution_count": 17,
   "metadata": {},
   "outputs": [
    {
     "data": {
      "text/plain": [
       "count    18949.000000\n",
       "mean        85.096348\n",
       "std          7.498769\n",
       "min          2.520854\n",
       "25%         81.462383\n",
       "50%         86.378811\n",
       "75%         90.105746\n",
       "max        100.000000\n",
       "Name: rec_check, dtype: float64"
      ]
     },
     "metadata": {},
     "output_type": "display_data"
    }
   ],
   "source": [
    "# добавляем проверку расчета эффективности для этапа флотации в обучающую выборку\n",
    "data_train_copy = data_train.copy()\n",
    "data_train_copy['rec_check'] = (data_train_copy['rougher.output.concentrate_au']\\\n",
    "                           * (data_train_copy['rougher.input.feed_au'] - data_train_copy['rougher.output.tail_au']))\\\n",
    "                           / (data_train_copy['rougher.input.feed_au']\\\n",
    "                           * (data_train_copy['rougher.output.concentrate_au'] - data_train_copy['rougher.output.tail_au']))\\\n",
    "                           * 100\n",
    "display(data_train_copy['rec_check'].describe())"
   ]
  },
  {
   "cell_type": "code",
   "execution_count": 18,
   "metadata": {},
   "outputs": [
    {
     "name": "stdout",
     "output_type": "stream",
     "text": [
      "MAE обогащения этапа флотации на обучающей выборке (оригинал vs расчет): 5.317772136050034e-19\n"
     ]
    }
   ],
   "source": [
    "# рассчитываем MAE\n",
    "MAE = abs(data_train_copy['rec_check'] - data_train_copy['rougher.output.recovery'])\\\n",
    "/ len(data_train_copy['rougher.output.recovery'])\n",
    "print('MAE обогащения этапа флотации на обучающей выборке (оригинал vs расчет):', MAE.mean())"
   ]
  },
  {
   "cell_type": "code",
   "execution_count": 19,
   "metadata": {
    "scrolled": true
   },
   "outputs": [
    {
     "data": {
      "text/plain": [
       "33                          final.output.concentrate_ag\n",
       "31                          final.output.concentrate_au\n",
       "24                          final.output.concentrate_pb\n",
       "28                         final.output.concentrate_sol\n",
       "9                                 final.output.recovery\n",
       "2                                  final.output.tail_ag\n",
       "7                                  final.output.tail_au\n",
       "15                                 final.output.tail_pb\n",
       "0                                 final.output.tail_sol\n",
       "22                primary_cleaner.output.concentrate_ag\n",
       "3                 primary_cleaner.output.concentrate_au\n",
       "12                primary_cleaner.output.concentrate_pb\n",
       "6                primary_cleaner.output.concentrate_sol\n",
       "8                        primary_cleaner.output.tail_ag\n",
       "27                       primary_cleaner.output.tail_au\n",
       "17                       primary_cleaner.output.tail_pb\n",
       "11                      primary_cleaner.output.tail_sol\n",
       "5                       rougher.calculation.au_pb_ratio\n",
       "20    rougher.calculation.floatbank10_sulfate_to_au_...\n",
       "26    rougher.calculation.floatbank11_sulfate_to_au_...\n",
       "18        rougher.calculation.sulfate_to_au_concentrate\n",
       "16                        rougher.output.concentrate_ag\n",
       "23                        rougher.output.concentrate_au\n",
       "4                         rougher.output.concentrate_pb\n",
       "30                       rougher.output.concentrate_sol\n",
       "19                              rougher.output.recovery\n",
       "10                               rougher.output.tail_ag\n",
       "29                               rougher.output.tail_au\n",
       "14                               rougher.output.tail_pb\n",
       "1                               rougher.output.tail_sol\n",
       "13                     secondary_cleaner.output.tail_ag\n",
       "21                     secondary_cleaner.output.tail_au\n",
       "25                     secondary_cleaner.output.tail_pb\n",
       "32                    secondary_cleaner.output.tail_sol\n",
       "dtype: object"
      ]
     },
     "metadata": {},
     "output_type": "display_data"
    }
   ],
   "source": [
    "# выводим признаки, исключенные из тестовой выборки\n",
    "data_train_col = data_train.columns\n",
    "data_test_col = data_test.columns\n",
    "excl_param = pd.Series(list(set(data_train_col) - set(data_test_col)))\n",
    "display(excl_param.sort_values())\n",
    "excl_param_list = excl_param.to_list"
   ]
  },
  {
   "cell_type": "code",
   "execution_count": 20,
   "metadata": {},
   "outputs": [
    {
     "data": {
      "text/html": [
       "<div>\n",
       "<style scoped>\n",
       "    .dataframe tbody tr th:only-of-type {\n",
       "        vertical-align: middle;\n",
       "    }\n",
       "\n",
       "    .dataframe tbody tr th {\n",
       "        vertical-align: top;\n",
       "    }\n",
       "\n",
       "    .dataframe thead th {\n",
       "        text-align: right;\n",
       "    }\n",
       "</style>\n",
       "<table border=\"1\" class=\"dataframe\">\n",
       "  <thead>\n",
       "    <tr style=\"text-align: right;\">\n",
       "      <th></th>\n",
       "      <th>rougher.output.concentrate_au</th>\n",
       "      <th>primary_cleaner.output.concentrate_au</th>\n",
       "      <th>final.output.concentrate_au</th>\n",
       "    </tr>\n",
       "  </thead>\n",
       "  <tbody>\n",
       "    <tr>\n",
       "      <th>count</th>\n",
       "      <td>13795.000000</td>\n",
       "      <td>13795.000000</td>\n",
       "      <td>13795.000000</td>\n",
       "    </tr>\n",
       "    <tr>\n",
       "      <th>mean</th>\n",
       "      <td>19.854799</td>\n",
       "      <td>32.367660</td>\n",
       "      <td>44.173624</td>\n",
       "    </tr>\n",
       "    <tr>\n",
       "      <th>std</th>\n",
       "      <td>2.482202</td>\n",
       "      <td>5.790100</td>\n",
       "      <td>3.980937</td>\n",
       "    </tr>\n",
       "    <tr>\n",
       "      <th>min</th>\n",
       "      <td>0.010000</td>\n",
       "      <td>0.000000</td>\n",
       "      <td>0.010000</td>\n",
       "    </tr>\n",
       "    <tr>\n",
       "      <th>25%</th>\n",
       "      <td>18.562590</td>\n",
       "      <td>30.824710</td>\n",
       "      <td>43.282622</td>\n",
       "    </tr>\n",
       "    <tr>\n",
       "      <th>50%</th>\n",
       "      <td>20.003264</td>\n",
       "      <td>33.191382</td>\n",
       "      <td>44.868073</td>\n",
       "    </tr>\n",
       "    <tr>\n",
       "      <th>75%</th>\n",
       "      <td>21.425916</td>\n",
       "      <td>35.316125</td>\n",
       "      <td>46.149205</td>\n",
       "    </tr>\n",
       "    <tr>\n",
       "      <th>max</th>\n",
       "      <td>28.146838</td>\n",
       "      <td>45.933934</td>\n",
       "      <td>52.756638</td>\n",
       "    </tr>\n",
       "  </tbody>\n",
       "</table>\n",
       "</div>"
      ],
      "text/plain": [
       "       rougher.output.concentrate_au  primary_cleaner.output.concentrate_au  \\\n",
       "count                   13795.000000                           13795.000000   \n",
       "mean                       19.854799                              32.367660   \n",
       "std                         2.482202                               5.790100   \n",
       "min                         0.010000                               0.000000   \n",
       "25%                        18.562590                              30.824710   \n",
       "50%                        20.003264                              33.191382   \n",
       "75%                        21.425916                              35.316125   \n",
       "max                        28.146838                              45.933934   \n",
       "\n",
       "       final.output.concentrate_au  \n",
       "count                 13795.000000  \n",
       "mean                     44.173624  \n",
       "std                       3.980937  \n",
       "min                       0.010000  \n",
       "25%                      43.282622  \n",
       "50%                      44.868073  \n",
       "75%                      46.149205  \n",
       "max                      52.756638  "
      ]
     },
     "metadata": {},
     "output_type": "display_data"
    }
   ],
   "source": [
    "# выводим стат данные по золоту\n",
    "rougher_output_concentrate_au = data_full['rougher.output.concentrate_au'].describe().to_frame()\n",
    "primary_cleaner_output_concentrate_au = data_full['primary_cleaner.output.concentrate_au'].describe().to_frame()\n",
    "final_output_concentrate_au = data_full['final.output.concentrate_au'].describe().to_frame()\n",
    "\n",
    "au = rougher_output_concentrate_au.join(primary_cleaner_output_concentrate_au, how='left')\\\n",
    ".join(final_output_concentrate_au, how='left')\n",
    "display(au)"
   ]
  },
  {
   "cell_type": "code",
   "execution_count": 21,
   "metadata": {},
   "outputs": [
    {
     "data": {
      "text/html": [
       "<div>\n",
       "<style scoped>\n",
       "    .dataframe tbody tr th:only-of-type {\n",
       "        vertical-align: middle;\n",
       "    }\n",
       "\n",
       "    .dataframe tbody tr th {\n",
       "        vertical-align: top;\n",
       "    }\n",
       "\n",
       "    .dataframe thead th {\n",
       "        text-align: right;\n",
       "    }\n",
       "</style>\n",
       "<table border=\"1\" class=\"dataframe\">\n",
       "  <thead>\n",
       "    <tr style=\"text-align: right;\">\n",
       "      <th></th>\n",
       "      <th>rougher.output.concentrate_ag</th>\n",
       "      <th>primary_cleaner.output.concentrate_ag</th>\n",
       "      <th>final.output.concentrate_ag</th>\n",
       "    </tr>\n",
       "  </thead>\n",
       "  <tbody>\n",
       "    <tr>\n",
       "      <th>count</th>\n",
       "      <td>13795.000000</td>\n",
       "      <td>13795.000000</td>\n",
       "      <td>13795.000000</td>\n",
       "    </tr>\n",
       "    <tr>\n",
       "      <th>mean</th>\n",
       "      <td>12.029788</td>\n",
       "      <td>8.205179</td>\n",
       "      <td>5.165178</td>\n",
       "    </tr>\n",
       "    <tr>\n",
       "      <th>std</th>\n",
       "      <td>2.135440</td>\n",
       "      <td>2.005823</td>\n",
       "      <td>1.333289</td>\n",
       "    </tr>\n",
       "    <tr>\n",
       "      <th>min</th>\n",
       "      <td>0.010000</td>\n",
       "      <td>0.000000</td>\n",
       "      <td>0.010000</td>\n",
       "    </tr>\n",
       "    <tr>\n",
       "      <th>25%</th>\n",
       "      <td>10.567271</td>\n",
       "      <td>7.109181</td>\n",
       "      <td>4.222427</td>\n",
       "    </tr>\n",
       "    <tr>\n",
       "      <th>50%</th>\n",
       "      <td>11.810049</td>\n",
       "      <td>8.228354</td>\n",
       "      <td>5.005550</td>\n",
       "    </tr>\n",
       "    <tr>\n",
       "      <th>75%</th>\n",
       "      <td>13.465338</td>\n",
       "      <td>9.513531</td>\n",
       "      <td>5.862109</td>\n",
       "    </tr>\n",
       "    <tr>\n",
       "      <th>max</th>\n",
       "      <td>24.480271</td>\n",
       "      <td>16.081632</td>\n",
       "      <td>16.001945</td>\n",
       "    </tr>\n",
       "  </tbody>\n",
       "</table>\n",
       "</div>"
      ],
      "text/plain": [
       "       rougher.output.concentrate_ag  primary_cleaner.output.concentrate_ag  \\\n",
       "count                   13795.000000                           13795.000000   \n",
       "mean                       12.029788                               8.205179   \n",
       "std                         2.135440                               2.005823   \n",
       "min                         0.010000                               0.000000   \n",
       "25%                        10.567271                               7.109181   \n",
       "50%                        11.810049                               8.228354   \n",
       "75%                        13.465338                               9.513531   \n",
       "max                        24.480271                              16.081632   \n",
       "\n",
       "       final.output.concentrate_ag  \n",
       "count                 13795.000000  \n",
       "mean                      5.165178  \n",
       "std                       1.333289  \n",
       "min                       0.010000  \n",
       "25%                       4.222427  \n",
       "50%                       5.005550  \n",
       "75%                       5.862109  \n",
       "max                      16.001945  "
      ]
     },
     "metadata": {},
     "output_type": "display_data"
    }
   ],
   "source": [
    "# выводим стат данные по серебру\n",
    "rougher_output_concentrate_ag = data_full['rougher.output.concentrate_ag'].describe().to_frame()\n",
    "primary_cleaner_output_concentrate_ag = data_full['primary_cleaner.output.concentrate_ag'].describe().to_frame()\n",
    "final_output_concentrate_ag = data_full['final.output.concentrate_ag'].describe().to_frame()\n",
    "\n",
    "ag = rougher_output_concentrate_ag.join(primary_cleaner_output_concentrate_ag, how='left')\\\n",
    ".join(final_output_concentrate_ag, how='left')\n",
    "display(ag)"
   ]
  },
  {
   "cell_type": "code",
   "execution_count": 22,
   "metadata": {},
   "outputs": [
    {
     "data": {
      "text/html": [
       "<div>\n",
       "<style scoped>\n",
       "    .dataframe tbody tr th:only-of-type {\n",
       "        vertical-align: middle;\n",
       "    }\n",
       "\n",
       "    .dataframe tbody tr th {\n",
       "        vertical-align: top;\n",
       "    }\n",
       "\n",
       "    .dataframe thead th {\n",
       "        text-align: right;\n",
       "    }\n",
       "</style>\n",
       "<table border=\"1\" class=\"dataframe\">\n",
       "  <thead>\n",
       "    <tr style=\"text-align: right;\">\n",
       "      <th></th>\n",
       "      <th>rougher.output.concentrate_pb</th>\n",
       "      <th>primary_cleaner.output.concentrate_pb</th>\n",
       "      <th>final.output.concentrate_pb</th>\n",
       "    </tr>\n",
       "  </thead>\n",
       "  <tbody>\n",
       "    <tr>\n",
       "      <th>count</th>\n",
       "      <td>13795.000000</td>\n",
       "      <td>13795.000000</td>\n",
       "      <td>13795.000000</td>\n",
       "    </tr>\n",
       "    <tr>\n",
       "      <th>mean</th>\n",
       "      <td>7.829981</td>\n",
       "      <td>9.552910</td>\n",
       "      <td>10.175150</td>\n",
       "    </tr>\n",
       "    <tr>\n",
       "      <th>std</th>\n",
       "      <td>1.493055</td>\n",
       "      <td>2.711295</td>\n",
       "      <td>1.527923</td>\n",
       "    </tr>\n",
       "    <tr>\n",
       "      <th>min</th>\n",
       "      <td>0.010000</td>\n",
       "      <td>0.000000</td>\n",
       "      <td>0.010000</td>\n",
       "    </tr>\n",
       "    <tr>\n",
       "      <th>25%</th>\n",
       "      <td>6.923615</td>\n",
       "      <td>8.296753</td>\n",
       "      <td>9.301671</td>\n",
       "    </tr>\n",
       "    <tr>\n",
       "      <th>50%</th>\n",
       "      <td>7.793305</td>\n",
       "      <td>9.896059</td>\n",
       "      <td>10.306808</td>\n",
       "    </tr>\n",
       "    <tr>\n",
       "      <th>75%</th>\n",
       "      <td>8.625369</td>\n",
       "      <td>11.277732</td>\n",
       "      <td>11.183322</td>\n",
       "    </tr>\n",
       "    <tr>\n",
       "      <th>max</th>\n",
       "      <td>13.617072</td>\n",
       "      <td>17.081278</td>\n",
       "      <td>17.031899</td>\n",
       "    </tr>\n",
       "  </tbody>\n",
       "</table>\n",
       "</div>"
      ],
      "text/plain": [
       "       rougher.output.concentrate_pb  primary_cleaner.output.concentrate_pb  \\\n",
       "count                   13795.000000                           13795.000000   \n",
       "mean                        7.829981                               9.552910   \n",
       "std                         1.493055                               2.711295   \n",
       "min                         0.010000                               0.000000   \n",
       "25%                         6.923615                               8.296753   \n",
       "50%                         7.793305                               9.896059   \n",
       "75%                         8.625369                              11.277732   \n",
       "max                        13.617072                              17.081278   \n",
       "\n",
       "       final.output.concentrate_pb  \n",
       "count                 13795.000000  \n",
       "mean                     10.175150  \n",
       "std                       1.527923  \n",
       "min                       0.010000  \n",
       "25%                       9.301671  \n",
       "50%                      10.306808  \n",
       "75%                      11.183322  \n",
       "max                      17.031899  "
      ]
     },
     "metadata": {},
     "output_type": "display_data"
    }
   ],
   "source": [
    "# выводим стат данные по свинцу\n",
    "rougher_output_concentrate_pb = data_full['rougher.output.concentrate_pb'].describe().to_frame()\n",
    "primary_cleaner_output_concentrate_pb = data_full['primary_cleaner.output.concentrate_pb'].describe().to_frame()\n",
    "final_output_concentrate_pb = data_full['final.output.concentrate_pb'].describe().to_frame()\n",
    "\n",
    "pb = rougher_output_concentrate_pb.join(primary_cleaner_output_concentrate_pb, how='left')\\\n",
    ".join(final_output_concentrate_pb, how='left')\n",
    "display(pb)"
   ]
  },
  {
   "cell_type": "markdown",
   "metadata": {},
   "source": [
    "<div style=\"border:solid green 4px; padding: 20px\">\n",
    "\n",
    "концентрация свинца в процессе обработки растет:\n",
    "\n",
    "среднее значение возрастает с 7.82 до 10.17\n",
    "\n",
    "максимальное значение возрастает с 13.61 до 17.03\n",
    "\n",
    "основные изменения также происходят после первого этапа очистки"
   ]
  },
  {
   "cell_type": "code",
   "execution_count": 23,
   "metadata": {},
   "outputs": [],
   "source": [
    "# создаем копию датасета для изучения суммарных значений концентраций веществ\n",
    "data_full_copy = data_full.copy() "
   ]
  },
  {
   "cell_type": "code",
   "execution_count": 24,
   "metadata": {},
   "outputs": [
    {
     "data": {
      "text/plain": [
       "count    13795.000000\n",
       "mean        56.219933\n",
       "std          6.989913\n",
       "min          0.040000\n",
       "25%         52.538724\n",
       "50%         56.619236\n",
       "75%         60.760588\n",
       "max         74.458253\n",
       "Name: sum_concetrate_base, dtype: float64"
      ]
     },
     "metadata": {},
     "output_type": "display_data"
    }
   ],
   "source": [
    "# суммируем концентрацию всех веществ в сырье\n",
    "data_full_copy['sum_concetrate_base']\\\n",
    "= data_full_copy['rougher.input.feed_ag']\\\n",
    "+ data_full_copy['rougher.input.feed_pb']\\\n",
    "+ data_full_copy['rougher.input.feed_sol']\\\n",
    "+ data_full_copy['rougher.input.feed_au']\n",
    "display(data_full_copy['sum_concetrate_base'].describe())"
   ]
  },
  {
   "cell_type": "code",
   "execution_count": 25,
   "metadata": {},
   "outputs": [
    {
     "data": {
      "text/plain": [
       "count    13795.000000\n",
       "mean        68.610459\n",
       "std          8.113216\n",
       "min          0.040000\n",
       "25%         65.248019\n",
       "50%         69.310903\n",
       "75%         73.508255\n",
       "max         88.140119\n",
       "Name: sum_concetrate_rougher, dtype: float64"
      ]
     },
     "metadata": {},
     "output_type": "display_data"
    }
   ],
   "source": [
    "# суммируем концентрацию всех веществ в черновом концентрате\n",
    "data_full_copy['sum_concetrate_rougher']\\\n",
    "= data_full_copy['rougher.output.concentrate_ag']\\\n",
    "+ data_full_copy['rougher.output.concentrate_pb']\\\n",
    "+ data_full_copy['rougher.output.concentrate_sol']\\\n",
    "+ data_full_copy['rougher.output.concentrate_au']\n",
    "display(data_full_copy['sum_concetrate_rougher'].describe())"
   ]
  },
  {
   "cell_type": "code",
   "execution_count": 26,
   "metadata": {},
   "outputs": [
    {
     "data": {
      "text/plain": [
       "count    13795.000000\n",
       "mean        60.120800\n",
       "std         10.394960\n",
       "min          0.000000\n",
       "25%         58.039345\n",
       "50%         61.730843\n",
       "75%         65.305376\n",
       "max         76.918076\n",
       "Name: sum_concetrate_primary, dtype: float64"
      ]
     },
     "metadata": {},
     "output_type": "display_data"
    }
   ],
   "source": [
    "# суммируем концентрацию всех веществ после первичной очистки\n",
    "data_full_copy['sum_concetrate_primary']\\\n",
    "= data_full_copy['primary_cleaner.output.concentrate_ag']\\\n",
    "+ data_full_copy['primary_cleaner.output.concentrate_pb']\\\n",
    "+ data_full_copy['primary_cleaner.output.concentrate_sol']\\\n",
    "+ data_full_copy['primary_cleaner.output.concentrate_au']\n",
    "display(data_full_copy['sum_concetrate_primary'].describe())"
   ]
  },
  {
   "cell_type": "code",
   "execution_count": 27,
   "metadata": {},
   "outputs": [
    {
     "data": {
      "text/plain": [
       "count    13795.000000\n",
       "mean        68.664585\n",
       "std          5.432306\n",
       "min          0.040000\n",
       "25%         67.559772\n",
       "50%         69.136193\n",
       "75%         70.953745\n",
       "max         80.210644\n",
       "Name: sum_concetrate_final, dtype: float64"
      ]
     },
     "metadata": {},
     "output_type": "display_data"
    }
   ],
   "source": [
    "# суммируем концентрацию всех веществ в финальном концентрате\n",
    "data_full_copy['sum_concetrate_final']\\\n",
    "= data_full_copy['final.output.concentrate_ag']\\\n",
    "+ data_full_copy['final.output.concentrate_pb']\\\n",
    "+ data_full_copy['final.output.concentrate_sol']\\\n",
    "+ data_full_copy['final.output.concentrate_au']\n",
    "display(data_full_copy['sum_concetrate_final'].describe())"
   ]
  },
  {
   "cell_type": "code",
   "execution_count": 28,
   "metadata": {
    "scrolled": false
   },
   "outputs": [
    {
     "data": {
      "image/png": "[encoded data removed]",
      "text/plain": [
       "<Figure size 1080x360 with 1 Axes>"
      ]
     },
     "metadata": {
      "needs_background": "light"
     },
     "output_type": "display_data"
    }
   ],
   "source": [
    "# строим гистограмму распределения данных по всем этапам\n",
    "plt.figure(figsize=(15, 5))\n",
    "\n",
    "data_full_copy['sum_concetrate_base'].plot(kind = 'hist', color='orange', alpha = 0.5, label = 'sum_concetrate_base'\\\n",
    "                                         , bins = 100)\n",
    "data_full_copy['sum_concetrate_rougher'].plot(kind = 'hist', color = 'blue', alpha = 0.5, label = 'sum_concetrate_rougher' \\\n",
    "                                         , bins = 100)\n",
    "data_full_copy['sum_concetrate_primary'].plot(kind = 'hist', color='red', alpha = 0.5, label = 'sum_concetrate_primary'\\\n",
    "                                         , bins = 100)\n",
    "data_full_copy['sum_concetrate_final'].plot(kind = 'hist', color='green', alpha = 0.5, label = 'sum_concetrate_final'\\\n",
    "                                         , bins = 100)\n",
    "plt.title('Распределение данных о суммарной концентрации всех веществ на разных этапах')\n",
    "plt.legend()\n",
    "plt.show()"
   ]
  },
  {
   "cell_type": "markdown",
   "metadata": {},
   "source": [
    "<div style=\"border:solid green 4px; padding: 20px\">\n",
    "\n",
    "по результату прохождения этапов обработки суммарная концентрация веществ сокращает разброс данных\n",
    "\n",
    "распределение уплотняется вокруг моды, мода растет\n",
    "\n",
    "анализ нулевых значений показал очевидное наличие ошибки внесения данных по результатам первичного этапа обработки, влияющей на целевую переменную"
   ]
  },
  {
   "cell_type": "code",
   "execution_count": 29,
   "metadata": {},
   "outputs": [
    {
     "data": {
      "text/plain": [
       "(13725, 86)"
      ]
     },
     "metadata": {},
     "output_type": "display_data"
    },
    {
     "data": {
      "text/plain": [
       "(18848, 86)"
      ]
     },
     "metadata": {},
     "output_type": "display_data"
    }
   ],
   "source": [
    "# отфильтровываем объекты с нулевыми значениями переменных из выборок\n",
    "data_full = data_full[data_full['primary_cleaner.output.concentrate_ag'] > 0]\n",
    "data_train = data_train[data_train['primary_cleaner.output.concentrate_ag'] > 0]\n",
    "\n",
    "display(data_full.shape)\n",
    "display(data_train.shape)"
   ]
  },
  {
   "cell_type": "code",
   "execution_count": 30,
   "metadata": {},
   "outputs": [
    {
     "name": "stdout",
     "output_type": "stream",
     "text": [
      "<class 'pandas.core.frame.DataFrame'>\n",
      "Int64Index: 18848 entries, 0 to 19438\n",
      "Data columns (total 2 columns):\n",
      " #   Column                           Non-Null Count  Dtype  \n",
      "---  ------                           --------------  -----  \n",
      " 0   primary_cleaner.input.feed_size  18848 non-null  float64\n",
      " 1   rougher.input.feed_size          18848 non-null  float64\n",
      "dtypes: float64(2)\n",
      "memory usage: 441.8 KB\n"
     ]
    }
   ],
   "source": [
    "# выводим список параметров, определяющих размер гранул на разных этапах очистки в обучающей выборке\n",
    "data_train_feed_size = data_train.filter(regex = 'feed_size')\n",
    "data_train_feed_size.info()"
   ]
  },
  {
   "cell_type": "code",
   "execution_count": 31,
   "metadata": {},
   "outputs": [
    {
     "name": "stdout",
     "output_type": "stream",
     "text": [
      "<class 'pandas.core.frame.DataFrame'>\n",
      "RangeIndex: 5290 entries, 0 to 5289\n",
      "Data columns (total 2 columns):\n",
      " #   Column                           Non-Null Count  Dtype  \n",
      "---  ------                           --------------  -----  \n",
      " 0   primary_cleaner.input.feed_size  5290 non-null   float64\n",
      " 1   rougher.input.feed_size          5290 non-null   float64\n",
      "dtypes: float64(2)\n",
      "memory usage: 82.8 KB\n"
     ]
    }
   ],
   "source": [
    "# выводим список параметров, определяющих размер гранул на разных этапах очистки в тестовой выборке\n",
    "data_test_feed_size = data_test.filter(regex = 'feed_size')\n",
    "data_test_feed_size.info()"
   ]
  },
  {
   "cell_type": "code",
   "execution_count": 32,
   "metadata": {},
   "outputs": [
    {
     "data": {
      "image/png": "[encoded data removed]",
      "text/plain": [
       "<Figure size 1080x504 with 2 Axes>"
      ]
     },
     "metadata": {
      "needs_background": "light"
     },
     "output_type": "display_data"
    }
   ],
   "source": [
    "# строим гистограммы распределения данных\n",
    "fig, ax = plt.subplots(2, 1)\n",
    "fig.set_figheight(7)\n",
    "fig.set_figwidth(15)\n",
    "fig.suptitle('Распределение размера гранул на разных этапах в обучающей и тестовой выборках', y=0.95, size=16)\n",
    "\n",
    "ax[0].hist(data_train['rougher.input.feed_size']\\\n",
    ", bins=100, alpha = 0.5, label = 'train_rougher.input.feed_size', density=True)\n",
    "ax[0].hist(data_test['rougher.input.feed_size']\\\n",
    ", bins=100, alpha = 0.5, label = 'test_rougher.input.feed_size', density=True)\n",
    "ax[0].legend()\n",
    "ax[0].set_title('Размер гранул сырья на входе')\n",
    "ax[0].grid()\n",
    "\n",
    "ax[1].hist(data_train['primary_cleaner.input.feed_size']\\\n",
    ", bins=100, alpha = 0.5, label = 'train_primary_cleaner.input.feed_size', density=True)\n",
    "ax[1].hist(data_test['primary_cleaner.input.feed_size']\\\n",
    ", bins=100, alpha = 0.5, label = 'primary_cleaner.output.concentrate_pb', density=True)\n",
    "ax[1].legend()\n",
    "ax[1].set_title('Размер гранул сырья после флотации')\n",
    "ax[1].grid()\n",
    "\n",
    "plt.show()"
   ]
  },
  {
   "cell_type": "markdown",
   "metadata": {},
   "source": [
    "<div style=\"border:solid green 4px; padding: 20px\">\n",
    "\n",
    "Сильных отличий не вывлено; ожидается, что оценка модели будет правильной"
   ]
  },
  {
   "cell_type": "markdown",
   "metadata": {},
   "source": [
    "## Модель"
   ]
  },
  {
   "cell_type": "code",
   "execution_count": 33,
   "metadata": {},
   "outputs": [],
   "source": [
    "# делим данные на признаки (features) и целевую переменную (target) для обучающей и тестовой выборок\n",
    "columns = data_test.columns\n",
    "\n",
    "features_train = data_train[columns] # формируем признаки, выбираем из trian только те параметры, которые есть в test\n",
    "\n",
    "target_train = data_train[['rougher.output.recovery','final.output.recovery']] # формируем вектор целевых признаков"
   ]
  },
  {
   "cell_type": "code",
   "execution_count": 34,
   "metadata": {},
   "outputs": [],
   "source": [
    "data_test_target = data_test.join(data_full, how = 'left', rsuffix=\"_dummy\") # создаем полный датасет со всеми признаками для тестовой выборки\n",
    "data_test_target = data_test_target.dropna() # удаляем пропуски\n",
    "features_test = data_test_target[columns] # формируем набор признаков тестовой выборки\n",
    "\n",
    "target_test = data_test_target[['rougher.output.recovery','final.output.recovery']] # формируем вектор целевых признаков"
   ]
  },
  {
   "cell_type": "code",
   "execution_count": 35,
   "metadata": {},
   "outputs": [
    {
     "data": {
      "text/plain": [
       "(18848, 52)"
      ]
     },
     "metadata": {},
     "output_type": "display_data"
    },
    {
     "data": {
      "text/plain": [
       "(18848, 2)"
      ]
     },
     "metadata": {},
     "output_type": "display_data"
    }
   ],
   "source": [
    "display(features_train.shape)\n",
    "display(target_train.shape)"
   ]
  },
  {
   "cell_type": "code",
   "execution_count": 36,
   "metadata": {},
   "outputs": [
    {
     "data": {
      "text/plain": [
       "(5206, 52)"
      ]
     },
     "metadata": {},
     "output_type": "display_data"
    },
    {
     "data": {
      "text/plain": [
       "(5206, 2)"
      ]
     },
     "metadata": {},
     "output_type": "display_data"
    }
   ],
   "source": [
    "display(features_test.shape)\n",
    "display(target_test.shape)"
   ]
  },
  {
   "cell_type": "code",
   "execution_count": 37,
   "metadata": {},
   "outputs": [],
   "source": [
    "# стандартизируем данные\n",
    "# обучаем StandartScaler на обучающей выборке\n",
    "\n",
    "scaler = StandardScaler()\n",
    "scaler.fit(features_train)\n",
    "\n",
    "# преобразуем обучающий и валидационные наборы данных\n",
    "\n",
    "features_train_st = scaler.transform(features_train)\n",
    "features_test_st = scaler.transform(features_test)"
   ]
  },
  {
   "cell_type": "code",
   "execution_count": 38,
   "metadata": {},
   "outputs": [],
   "source": [
    "def sMAPE(predict,target):\n",
    "    \n",
    "    predict_rougher = predict[:,0]\n",
    "    target_rougher = target[:,0]\n",
    "    \n",
    "    predict_final = predict[:,1]\n",
    "    target_final = target[:,1]\n",
    "    \n",
    "    sMAPE_rougher = np.sum(abs(target_rougher - predict_rougher) / ((abs(target_rougher) + abs(predict_rougher)) / 2))\n",
    "    \n",
    "    sMAPE_rougher = sMAPE_rougher / len(target_rougher) * 100\n",
    "       \n",
    "    sMAPE_final = np.sum(abs(target_final - predict_final) / ((abs(target_final) + abs(predict_final)) / 2))\n",
    "    sMAPE_final = sMAPE_final / len(target_final) * 100\n",
    "    \n",
    "    sMAPE = 0.25 * sMAPE_rougher + 0.75 * sMAPE_final\n",
    "    \n",
    "    return sMAPE"
   ]
  },
  {
   "cell_type": "code",
   "execution_count": 39,
   "metadata": {},
   "outputs": [],
   "source": [
    "smape_scorer = make_scorer(sMAPE, greater_is_better = False)"
   ]
  },
  {
   "cell_type": "code",
   "execution_count": 40,
   "metadata": {},
   "outputs": [
    {
     "name": "stdout",
     "output_type": "stream",
     "text": [
      "LinearRegression sMAPE: 8.557201161494639\n"
     ]
    }
   ],
   "source": [
    "# кросс-валидация Линейная регрессия\n",
    "lr = LinearRegression()\n",
    "score = cross_val_score(lr, features_train_st, np.array(target_train), scoring = smape_scorer, cv=6).mean()\n",
    "print('LinearRegression sMAPE:', abs(score))"
   ]
  },
  {
   "cell_type": "code",
   "execution_count": 41,
   "metadata": {},
   "outputs": [
    {
     "name": "stdout",
     "output_type": "stream",
     "text": [
      "DecisionTreeRegressor(max_depth=1, random_state=0)\n"
     ]
    }
   ],
   "source": [
    "# подбираем лучший гиперпараметр  max_depth с RandomizedSearchCV,\n",
    "# выбираем метрику настройки sMAPE\n",
    "max_depth = range(1, 30, 3)\n",
    "hyperparameters = dict(max_depth=max_depth)\n",
    "dt = DecisionTreeRegressor(random_state = 0)\n",
    "\n",
    "randomizedsearch = RandomizedSearchCV(dt, hyperparameters, random_state = 0 \\\n",
    "                                      , scoring= smape_scorer)\n",
    "\n",
    "dt_best_model_random = randomizedsearch.fit(features_train, np.array(target_train))\n",
    "print(dt_best_model_random.best_estimator_)"
   ]
  },
  {
   "cell_type": "code",
   "execution_count": 42,
   "metadata": {},
   "outputs": [
    {
     "name": "stdout",
     "output_type": "stream",
     "text": [
      "DecisionTreeRegressor sMAPE: 8.822260086335364\n"
     ]
    }
   ],
   "source": [
    "# кросс-валидация DecisionTreeRegressor\n",
    "dt_best = DecisionTreeRegressor(random_state = 0, max_depth=1)\n",
    "\n",
    "score = cross_val_score(dt_best, features_train_st, np.array(target_train), scoring = smape_scorer, cv=6).mean()\n",
    "print('DecisionTreeRegressor sMAPE:', abs(score))"
   ]
  },
  {
   "cell_type": "code",
   "execution_count": 43,
   "metadata": {},
   "outputs": [],
   "source": [
    "#%%time\n",
    "\n",
    "# подбираем лучшие гиперпараметры  n_estimators, max_depth, min_samples_leaf с RandomizedSearchCV,\n",
    "# выбираем метрику настройки sMAPE\n",
    "#n_estimators = range(1, 100, 10)\n",
    "#max_depth = range(15,17)\n",
    "#min_samples_leaf = range(10,12)\n",
    "\n",
    "#hyperparameters = dict( max_depth=max_depth, min_samples_leaf = min_samples_leaf, n_estimators = n_estimators)\n",
    "#rf = RandomForestRegressor(random_state = 0)\n",
    "\n",
    "#randomizedsearch = RandomizedSearchCV(rf, hyperparameters, random_state = 0, scoring = smape_scorer)\n",
    "\n",
    "#rf_best_model_random = randomizedsearch.fit(features_train, np.array(target_train))\n",
    "#print(rf_best_model_random.best_estimator_)\n",
    "#Cам вписал значения гиперпараметров, потому что ждать приходится 30 минут"
   ]
  },
  {
   "cell_type": "markdown",
   "metadata": {},
   "source": [
    "RandomForestRegressor(max_depth=16, min_samples_leaf=10, n_estimators=91,\n",
    "                      random_state=0)\n",
    "CPU times: user 20min 30s, sys: 4.49 s, total: 20min 35s\n",
    "Wall time: 20min 35s\n",
    "    "
   ]
  },
  {
   "cell_type": "code",
   "execution_count": 44,
   "metadata": {},
   "outputs": [
    {
     "name": "stdout",
     "output_type": "stream",
     "text": [
      "DecisionTreeRegressor sMAPE: 8.147974299723366\n",
      "CPU times: user 5min 28s, sys: 954 ms, total: 5min 29s\n",
      "Wall time: 5min 31s\n"
     ]
    }
   ],
   "source": [
    "%%time\n",
    "# кросс-валидация RandomForestRegressor\n",
    "rf_best = RandomForestRegressor(random_state = 0, max_depth = 16, min_samples_leaf = 10, n_estimators = 91)\n",
    "\n",
    "score = cross_val_score(rf_best, features_train, np.array(target_train), scoring = smape_scorer, cv=6).mean()\n",
    "print('DecisionTreeRegressor sMAPE:', abs(score))"
   ]
  },
  {
   "cell_type": "markdown",
   "metadata": {},
   "source": [
    "DecisionTreeRegressor sMAPE: 8.1767069716392\n",
    "CPU times: user 5min 44s, sys: 797 ms, total: 5min 45s\n",
    "Wall time: 5min 46s"
   ]
  },
  {
   "cell_type": "markdown",
   "metadata": {},
   "source": [
    "Проверяем лучшую модель не тестовой выборке"
   ]
  },
  {
   "cell_type": "code",
   "execution_count": 45,
   "metadata": {},
   "outputs": [
    {
     "name": "stdout",
     "output_type": "stream",
     "text": [
      "CPU times: user 1min 8s, sys: 148 ms, total: 1min 9s\n",
      "Wall time: 1min 9s\n"
     ]
    },
    {
     "data": {
      "text/plain": [
       "RandomForestRegressor(max_depth=16, min_samples_leaf=10, n_estimators=91,\n",
       "                      random_state=0)"
      ]
     },
     "execution_count": 45,
     "metadata": {},
     "output_type": "execute_result"
    }
   ],
   "source": [
    "%%time\n",
    "rf_best = RandomForestRegressor(random_state = 0, max_depth = 16, min_samples_leaf = 10, n_estimators = 91)\n",
    "rf_best.fit(features_train_st, target_train)"
   ]
  },
  {
   "cell_type": "code",
   "execution_count": 46,
   "metadata": {},
   "outputs": [
    {
     "name": "stdout",
     "output_type": "stream",
     "text": [
      "Симметричная средняя абсолютная ошибка лучшей модели : 11.281358554045372\n"
     ]
    }
   ],
   "source": [
    "predict = rf_best.predict(features_test_st)\n",
    "\n",
    "smape = sMAPE(predict, np.array(target_test))\n",
    "print('Симметричная средняя абсолютная ошибка лучшей модели :', smape)"
   ]
  },
  {
   "cell_type": "markdown",
   "metadata": {},
   "source": [
    "Симметричная средняя абсолютная ошибка лучшей модели : 11.3270560498813"
   ]
  },
  {
   "cell_type": "code",
   "execution_count": 47,
   "metadata": {},
   "outputs": [
    {
     "name": "stdout",
     "output_type": "stream",
     "text": [
      "Симметричная средняя абсолютная ошибка модели: 9.964157599681776\n"
     ]
    }
   ],
   "source": [
    "dummy_regr = DummyRegressor(strategy = \"median\")\n",
    "dummy_regr.fit(features_train_st, target_train)\n",
    "predict = dummy_regr.predict(features_test_st)\n",
    "\n",
    "smape = sMAPE(predict, np.array(target_test))\n",
    "print('Симметричная средняя абсолютная ошибка модели:', smape)"
   ]
  },
  {
   "cell_type": "markdown",
   "metadata": {},
   "source": [
    "<div style=\"border:solid green 4px; padding: 20px\">\n",
    "    \n",
    "# Вывод: \n",
    "    Выбранная методом кросс-валидации лучшая модель RandomForestRegressor показала на тестовой выборке результаты метрики SMAPE = 11.32 проверка константной моделью DummyRegressor со страдегией медианы показала на тестовой выборке результаты метрики SMAPE = 9.99 модель рекомендуется в качестве прототипа модели машинного обучения для компании, разрабатывающей решения для эффективной работы промышленных предприятий по восстановлению золота из золотоносной руды"
   ]
  },
  {
   "cell_type": "code",
   "execution_count": null,
   "metadata": {},
   "outputs": [],
   "source": []
  }
 ],
 "metadata": {
  "ExecuteTimeLog": [
   {
    "duration": 61,
    "start_time": "2023-04-28T06:21:40.235Z"
   },
   {
    "duration": 388,
    "start_time": "2023-04-28T06:21:43.152Z"
   },
   {
    "duration": 2102,
    "start_time": "2023-04-28T06:21:43.542Z"
   },
   {
    "duration": 49,
    "start_time": "2023-04-28T09:11:10.144Z"
   },
   {
    "duration": 6,
    "start_time": "2023-04-28T09:11:10.290Z"
   },
   {
    "duration": 6,
    "start_time": "2023-04-28T09:11:10.407Z"
   },
   {
    "duration": 359,
    "start_time": "2023-04-28T09:11:13.190Z"
   },
   {
    "duration": 2902,
    "start_time": "2023-04-28T09:11:13.550Z"
   },
   {
    "duration": 38,
    "start_time": "2023-04-28T09:11:16.453Z"
   },
   {
    "duration": 27,
    "start_time": "2023-04-28T09:11:16.493Z"
   },
   {
    "duration": 55,
    "start_time": "2023-04-28T09:11:16.521Z"
   },
   {
    "duration": 60,
    "start_time": "2023-04-28T09:12:52.495Z"
   },
   {
    "duration": 142,
    "start_time": "2023-04-28T09:13:10.738Z"
   },
   {
    "duration": 40,
    "start_time": "2023-04-28T09:13:30.721Z"
   },
   {
    "duration": 32,
    "start_time": "2023-04-28T09:13:37.309Z"
   },
   {
    "duration": 2,
    "start_time": "2023-04-28T09:13:46.144Z"
   },
   {
    "duration": 622,
    "start_time": "2023-04-28T09:13:46.291Z"
   },
   {
    "duration": 43,
    "start_time": "2023-04-28T09:13:46.914Z"
   },
   {
    "duration": 421,
    "start_time": "2023-04-28T09:13:54.620Z"
   },
   {
    "duration": 601,
    "start_time": "2023-04-28T09:13:55.043Z"
   },
   {
    "duration": 44,
    "start_time": "2023-04-28T09:13:55.645Z"
   },
   {
    "duration": 25,
    "start_time": "2023-04-28T09:13:55.691Z"
   },
   {
    "duration": 48,
    "start_time": "2023-04-28T09:13:55.718Z"
   },
   {
    "duration": 34,
    "start_time": "2023-04-28T09:15:27.333Z"
   },
   {
    "duration": 26,
    "start_time": "2023-04-28T09:15:27.501Z"
   },
   {
    "duration": 26,
    "start_time": "2023-04-28T09:15:48.895Z"
   },
   {
    "duration": 36,
    "start_time": "2023-04-28T09:16:07.273Z"
   },
   {
    "duration": 70,
    "start_time": "2023-04-28T09:20:22.849Z"
   },
   {
    "duration": 2,
    "start_time": "2023-04-28T09:20:31.405Z"
   },
   {
    "duration": 594,
    "start_time": "2023-04-28T09:20:31.517Z"
   },
   {
    "duration": 35,
    "start_time": "2023-04-28T09:20:32.113Z"
   },
   {
    "duration": 52,
    "start_time": "2023-04-28T09:20:32.150Z"
   },
   {
    "duration": 37,
    "start_time": "2023-04-28T09:20:32.404Z"
   },
   {
    "duration": 12,
    "start_time": "2023-04-28T09:20:45.856Z"
   },
   {
    "duration": 2,
    "start_time": "2023-04-28T09:20:49.454Z"
   },
   {
    "duration": 618,
    "start_time": "2023-04-28T09:20:49.643Z"
   },
   {
    "duration": 30,
    "start_time": "2023-04-28T09:20:50.263Z"
   },
   {
    "duration": 26,
    "start_time": "2023-04-28T09:20:50.782Z"
   },
   {
    "duration": 58,
    "start_time": "2023-04-28T09:20:51.653Z"
   },
   {
    "duration": 112,
    "start_time": "2023-04-28T09:22:50.246Z"
   },
   {
    "duration": 27,
    "start_time": "2023-04-28T09:27:40.653Z"
   },
   {
    "duration": 585,
    "start_time": "2023-04-28T09:33:37.677Z"
   },
   {
    "duration": 10,
    "start_time": "2023-04-28T09:33:49.709Z"
   },
   {
    "duration": 22,
    "start_time": "2023-04-28T09:35:14.473Z"
   },
   {
    "duration": 8,
    "start_time": "2023-04-28T09:39:44.939Z"
   },
   {
    "duration": 8,
    "start_time": "2023-04-28T09:39:56.850Z"
   },
   {
    "duration": 3,
    "start_time": "2023-04-28T09:40:15.695Z"
   },
   {
    "duration": 7,
    "start_time": "2023-04-28T09:40:19.520Z"
   },
   {
    "duration": 5,
    "start_time": "2023-04-28T09:40:54.979Z"
   },
   {
    "duration": 8,
    "start_time": "2023-04-28T09:41:08.873Z"
   },
   {
    "duration": 262,
    "start_time": "2023-04-28T09:41:22.657Z"
   },
   {
    "duration": 222,
    "start_time": "2023-04-28T09:42:00.034Z"
   },
   {
    "duration": 7,
    "start_time": "2023-04-28T09:45:06.770Z"
   },
   {
    "duration": 125,
    "start_time": "2023-04-28T09:45:19.155Z"
   },
   {
    "duration": 20,
    "start_time": "2023-04-28T09:45:19.356Z"
   },
   {
    "duration": 227,
    "start_time": "2023-04-28T09:45:19.509Z"
   },
   {
    "duration": 17,
    "start_time": "2023-04-28T09:45:19.738Z"
   },
   {
    "duration": 8,
    "start_time": "2023-04-28T09:45:45.436Z"
   },
   {
    "duration": 16,
    "start_time": "2023-04-28T09:47:08.284Z"
   },
   {
    "duration": 12,
    "start_time": "2023-04-28T09:47:08.413Z"
   },
   {
    "duration": 26,
    "start_time": "2023-04-28T09:47:48.751Z"
   },
   {
    "duration": 357,
    "start_time": "2023-04-28T09:57:45.392Z"
   },
   {
    "duration": 658,
    "start_time": "2023-04-28T09:57:45.751Z"
   },
   {
    "duration": 44,
    "start_time": "2023-04-28T09:57:46.410Z"
   },
   {
    "duration": 24,
    "start_time": "2023-04-28T09:57:46.457Z"
   },
   {
    "duration": 31,
    "start_time": "2023-04-28T09:57:46.483Z"
   },
   {
    "duration": 45,
    "start_time": "2023-04-28T09:57:46.517Z"
   },
   {
    "duration": 0,
    "start_time": "2023-04-28T09:57:46.564Z"
   },
   {
    "duration": 0,
    "start_time": "2023-04-28T09:57:46.564Z"
   },
   {
    "duration": 0,
    "start_time": "2023-04-28T09:57:46.566Z"
   },
   {
    "duration": 0,
    "start_time": "2023-04-28T09:57:46.566Z"
   },
   {
    "duration": 0,
    "start_time": "2023-04-28T09:57:46.567Z"
   },
   {
    "duration": 0,
    "start_time": "2023-04-28T09:57:46.569Z"
   },
   {
    "duration": 0,
    "start_time": "2023-04-28T09:57:46.569Z"
   },
   {
    "duration": 0,
    "start_time": "2023-04-28T09:57:46.570Z"
   },
   {
    "duration": 124,
    "start_time": "2023-04-28T09:58:52.363Z"
   },
   {
    "duration": 16,
    "start_time": "2023-04-28T09:58:52.511Z"
   },
   {
    "duration": 497,
    "start_time": "2023-04-28T09:58:52.672Z"
   },
   {
    "duration": 8,
    "start_time": "2023-04-28T09:58:53.171Z"
   },
   {
    "duration": 18,
    "start_time": "2023-04-28T09:58:53.181Z"
   },
   {
    "duration": 12,
    "start_time": "2023-04-28T09:58:53.201Z"
   },
   {
    "duration": 18,
    "start_time": "2023-04-28T09:58:53.304Z"
   },
   {
    "duration": 118,
    "start_time": "2023-04-28T09:59:05.180Z"
   },
   {
    "duration": 81,
    "start_time": "2023-04-28T10:08:59.797Z"
   },
   {
    "duration": 3,
    "start_time": "2023-04-28T10:09:28.081Z"
   },
   {
    "duration": 5,
    "start_time": "2023-04-28T10:09:30.336Z"
   },
   {
    "duration": 428,
    "start_time": "2023-04-28T10:09:54.418Z"
   },
   {
    "duration": 652,
    "start_time": "2023-04-28T10:09:54.848Z"
   },
   {
    "duration": 39,
    "start_time": "2023-04-28T10:09:55.501Z"
   },
   {
    "duration": 24,
    "start_time": "2023-04-28T10:09:55.549Z"
   },
   {
    "duration": 36,
    "start_time": "2023-04-28T10:09:55.575Z"
   },
   {
    "duration": 137,
    "start_time": "2023-04-28T10:09:55.612Z"
   },
   {
    "duration": 18,
    "start_time": "2023-04-28T10:09:55.750Z"
   },
   {
    "duration": 446,
    "start_time": "2023-04-28T10:09:55.770Z"
   },
   {
    "duration": 8,
    "start_time": "2023-04-28T10:09:56.218Z"
   },
   {
    "duration": 28,
    "start_time": "2023-04-28T10:09:56.228Z"
   },
   {
    "duration": 12,
    "start_time": "2023-04-28T10:09:56.257Z"
   },
   {
    "duration": 7,
    "start_time": "2023-04-28T10:09:56.271Z"
   },
   {
    "duration": 10,
    "start_time": "2023-04-28T10:09:56.279Z"
   },
   {
    "duration": 78,
    "start_time": "2023-04-28T10:10:03.296Z"
   },
   {
    "duration": 10,
    "start_time": "2023-04-28T10:10:27.043Z"
   },
   {
    "duration": 9,
    "start_time": "2023-04-28T10:10:37.185Z"
   },
   {
    "duration": 9,
    "start_time": "2023-04-28T10:10:45.309Z"
   },
   {
    "duration": 9,
    "start_time": "2023-04-28T10:13:09.413Z"
   },
   {
    "duration": 5,
    "start_time": "2023-04-28T10:13:09.678Z"
   },
   {
    "duration": 11,
    "start_time": "2023-04-28T10:13:09.828Z"
   },
   {
    "duration": 9,
    "start_time": "2023-04-28T10:14:11.930Z"
   },
   {
    "duration": 10,
    "start_time": "2023-04-28T10:14:17.480Z"
   },
   {
    "duration": 467,
    "start_time": "2023-04-28T10:14:49.423Z"
   },
   {
    "duration": 635,
    "start_time": "2023-04-28T10:14:49.892Z"
   },
   {
    "duration": 48,
    "start_time": "2023-04-28T10:14:50.529Z"
   },
   {
    "duration": 28,
    "start_time": "2023-04-28T10:14:50.580Z"
   },
   {
    "duration": 53,
    "start_time": "2023-04-28T10:14:50.609Z"
   },
   {
    "duration": 134,
    "start_time": "2023-04-28T10:14:50.664Z"
   },
   {
    "duration": 15,
    "start_time": "2023-04-28T10:14:50.800Z"
   },
   {
    "duration": 556,
    "start_time": "2023-04-28T10:14:50.817Z"
   },
   {
    "duration": 8,
    "start_time": "2023-04-28T10:14:51.374Z"
   },
   {
    "duration": 20,
    "start_time": "2023-04-28T10:14:51.385Z"
   },
   {
    "duration": 13,
    "start_time": "2023-04-28T10:14:51.407Z"
   },
   {
    "duration": 32,
    "start_time": "2023-04-28T10:14:51.422Z"
   },
   {
    "duration": 41,
    "start_time": "2023-04-28T10:14:51.456Z"
   },
   {
    "duration": 260,
    "start_time": "2023-04-28T10:14:51.499Z"
   },
   {
    "duration": 78,
    "start_time": "2023-04-28T10:15:22.867Z"
   },
   {
    "duration": 9,
    "start_time": "2023-04-28T10:15:23.212Z"
   },
   {
    "duration": 444,
    "start_time": "2023-04-28T10:15:30.510Z"
   },
   {
    "duration": 637,
    "start_time": "2023-04-28T10:15:30.956Z"
   },
   {
    "duration": 56,
    "start_time": "2023-04-28T10:15:31.595Z"
   },
   {
    "duration": 51,
    "start_time": "2023-04-28T10:15:31.653Z"
   },
   {
    "duration": 45,
    "start_time": "2023-04-28T10:15:31.707Z"
   },
   {
    "duration": 122,
    "start_time": "2023-04-28T10:15:31.754Z"
   },
   {
    "duration": 16,
    "start_time": "2023-04-28T10:15:31.878Z"
   },
   {
    "duration": 607,
    "start_time": "2023-04-28T10:15:31.896Z"
   },
   {
    "duration": 10,
    "start_time": "2023-04-28T10:15:32.505Z"
   },
   {
    "duration": 38,
    "start_time": "2023-04-28T10:15:32.517Z"
   },
   {
    "duration": 16,
    "start_time": "2023-04-28T10:15:32.557Z"
   },
   {
    "duration": 5,
    "start_time": "2023-04-28T10:15:32.576Z"
   },
   {
    "duration": 25,
    "start_time": "2023-04-28T10:15:32.582Z"
   },
   {
    "duration": 245,
    "start_time": "2023-04-28T10:15:32.609Z"
   },
   {
    "duration": 7,
    "start_time": "2023-04-28T10:16:19.516Z"
   },
   {
    "duration": 15,
    "start_time": "2023-04-28T10:21:32.211Z"
   },
   {
    "duration": 24,
    "start_time": "2023-04-28T10:23:33.533Z"
   },
   {
    "duration": 10,
    "start_time": "2023-04-28T10:23:33.645Z"
   },
   {
    "duration": 5,
    "start_time": "2023-04-28T10:25:00.082Z"
   },
   {
    "duration": 5,
    "start_time": "2023-04-28T10:34:06.379Z"
   },
   {
    "duration": 18,
    "start_time": "2023-04-28T10:42:38.453Z"
   },
   {
    "duration": 53,
    "start_time": "2023-04-30T13:47:35.974Z"
   },
   {
    "duration": 418,
    "start_time": "2023-04-30T13:47:42.374Z"
   },
   {
    "duration": 3154,
    "start_time": "2023-04-30T13:47:42.794Z"
   },
   {
    "duration": 44,
    "start_time": "2023-04-30T13:47:45.950Z"
   },
   {
    "duration": 25,
    "start_time": "2023-04-30T13:47:45.995Z"
   },
   {
    "duration": 62,
    "start_time": "2023-04-30T13:47:46.023Z"
   },
   {
    "duration": 126,
    "start_time": "2023-04-30T13:47:46.087Z"
   },
   {
    "duration": 15,
    "start_time": "2023-04-30T13:47:46.214Z"
   },
   {
    "duration": 628,
    "start_time": "2023-04-30T13:47:46.230Z"
   },
   {
    "duration": 9,
    "start_time": "2023-04-30T13:47:46.860Z"
   },
   {
    "duration": 23,
    "start_time": "2023-04-30T13:47:46.871Z"
   },
   {
    "duration": 11,
    "start_time": "2023-04-30T13:47:46.895Z"
   },
   {
    "duration": 4,
    "start_time": "2023-04-30T13:47:46.907Z"
   },
   {
    "duration": 26,
    "start_time": "2023-04-30T13:47:46.913Z"
   },
   {
    "duration": 260,
    "start_time": "2023-04-30T13:47:46.941Z"
   },
   {
    "duration": 7,
    "start_time": "2023-04-30T13:47:47.203Z"
   },
   {
    "duration": 25,
    "start_time": "2023-04-30T13:47:47.212Z"
   },
   {
    "duration": 12,
    "start_time": "2023-04-30T13:47:47.239Z"
   },
   {
    "duration": 33,
    "start_time": "2023-04-30T13:47:47.252Z"
   },
   {
    "duration": 49,
    "start_time": "2023-04-30T13:47:47.286Z"
   },
   {
    "duration": 0,
    "start_time": "2023-04-30T13:47:47.336Z"
   },
   {
    "duration": 0,
    "start_time": "2023-04-30T13:47:47.337Z"
   },
   {
    "duration": 0,
    "start_time": "2023-04-30T13:47:47.338Z"
   },
   {
    "duration": 0,
    "start_time": "2023-04-30T13:47:47.339Z"
   },
   {
    "duration": 76,
    "start_time": "2023-04-30T13:48:05.672Z"
   },
   {
    "duration": 7,
    "start_time": "2023-04-30T13:48:05.822Z"
   },
   {
    "duration": 8,
    "start_time": "2023-04-30T13:48:14.473Z"
   },
   {
    "duration": 44,
    "start_time": "2023-04-30T13:48:14.618Z"
   },
   {
    "duration": 22,
    "start_time": "2023-04-30T13:48:17.789Z"
   },
   {
    "duration": 23,
    "start_time": "2023-04-30T13:48:18.805Z"
   },
   {
    "duration": 95,
    "start_time": "2023-04-30T13:50:17.425Z"
   },
   {
    "duration": 22,
    "start_time": "2023-04-30T13:50:29.794Z"
   },
   {
    "duration": 6,
    "start_time": "2023-04-30T13:50:31.650Z"
   },
   {
    "duration": 6,
    "start_time": "2023-04-30T13:50:32.102Z"
   },
   {
    "duration": 8,
    "start_time": "2023-04-30T13:51:06.924Z"
   },
   {
    "duration": 648,
    "start_time": "2023-04-30T13:52:18.205Z"
   },
   {
    "duration": 25,
    "start_time": "2023-04-30T13:52:22.455Z"
   },
   {
    "duration": 4,
    "start_time": "2023-04-30T13:52:53.893Z"
   },
   {
    "duration": 3,
    "start_time": "2023-04-30T13:53:15.023Z"
   },
   {
    "duration": 45,
    "start_time": "2023-04-30T13:53:37.646Z"
   },
   {
    "duration": 4,
    "start_time": "2023-04-30T13:53:56.871Z"
   },
   {
    "duration": 11,
    "start_time": "2023-04-30T13:54:00.977Z"
   },
   {
    "duration": 3,
    "start_time": "2023-04-30T13:54:30.275Z"
   },
   {
    "duration": 1874,
    "start_time": "2023-04-30T13:54:34.513Z"
   },
   {
    "duration": 44772,
    "start_time": "2023-04-30T13:55:52.837Z"
   },
   {
    "duration": 5,
    "start_time": "2023-04-30T13:56:37.611Z"
   },
   {
    "duration": 5,
    "start_time": "2023-04-30T13:57:00.147Z"
   },
   {
    "duration": 44652,
    "start_time": "2023-04-30T13:57:03.371Z"
   },
   {
    "duration": 4121,
    "start_time": "2023-04-30T13:58:02.794Z"
   },
   {
    "duration": 1795501,
    "start_time": "2023-04-30T14:46:02.647Z"
   },
   {
    "duration": 65400,
    "start_time": "2023-04-30T15:15:58.150Z"
   },
   {
    "duration": 85,
    "start_time": "2023-04-30T16:46:39.024Z"
   },
   {
    "duration": 116,
    "start_time": "2023-04-30T16:48:00.408Z"
   },
   {
    "duration": 1235663,
    "start_time": "2023-04-30T16:48:46.505Z"
   },
   {
    "duration": 66,
    "start_time": "2023-05-01T16:46:30.765Z"
   },
   {
    "duration": 1236,
    "start_time": "2023-05-01T16:47:05.036Z"
   },
   {
    "duration": 3479,
    "start_time": "2023-05-01T16:47:06.274Z"
   },
   {
    "duration": 46,
    "start_time": "2023-05-01T16:47:09.755Z"
   },
   {
    "duration": 37,
    "start_time": "2023-05-01T16:47:09.803Z"
   },
   {
    "duration": 47,
    "start_time": "2023-05-01T16:47:09.841Z"
   },
   {
    "duration": 154,
    "start_time": "2023-05-01T16:47:09.890Z"
   },
   {
    "duration": 16,
    "start_time": "2023-05-01T16:47:10.046Z"
   },
   {
    "duration": 806,
    "start_time": "2023-05-01T16:47:10.064Z"
   },
   {
    "duration": 11,
    "start_time": "2023-05-01T16:47:10.873Z"
   },
   {
    "duration": 47,
    "start_time": "2023-05-01T16:47:10.887Z"
   },
   {
    "duration": 21,
    "start_time": "2023-05-01T16:47:10.936Z"
   },
   {
    "duration": 5,
    "start_time": "2023-05-01T16:47:10.959Z"
   },
   {
    "duration": 46,
    "start_time": "2023-05-01T16:47:10.965Z"
   },
   {
    "duration": 314,
    "start_time": "2023-05-01T16:47:11.012Z"
   },
   {
    "duration": 9,
    "start_time": "2023-05-01T16:47:11.330Z"
   },
   {
    "duration": 36,
    "start_time": "2023-05-01T16:47:11.341Z"
   },
   {
    "duration": 13,
    "start_time": "2023-05-01T16:47:11.379Z"
   },
   {
    "duration": 28,
    "start_time": "2023-05-01T16:47:11.394Z"
   },
   {
    "duration": 16,
    "start_time": "2023-05-01T16:47:11.423Z"
   },
   {
    "duration": 119,
    "start_time": "2023-05-01T16:47:11.442Z"
   },
   {
    "duration": 6,
    "start_time": "2023-05-01T16:47:11.564Z"
   },
   {
    "duration": 23,
    "start_time": "2023-05-01T16:47:11.572Z"
   },
   {
    "duration": 22,
    "start_time": "2023-05-01T16:47:11.596Z"
   },
   {
    "duration": 7,
    "start_time": "2023-05-01T16:47:11.619Z"
   },
   {
    "duration": 29,
    "start_time": "2023-05-01T16:47:11.631Z"
   },
   {
    "duration": 5,
    "start_time": "2023-05-01T16:47:11.662Z"
   },
   {
    "duration": 33,
    "start_time": "2023-05-01T16:47:11.668Z"
   },
   {
    "duration": 1833,
    "start_time": "2023-05-01T16:47:11.704Z"
   },
   {
    "duration": 49919,
    "start_time": "2023-05-01T16:47:13.619Z"
   },
   {
    "duration": 4398,
    "start_time": "2023-05-01T16:48:03.540Z"
   },
   {
    "duration": 2,
    "start_time": "2023-05-01T16:48:07.940Z"
   },
   {
    "duration": 58,
    "start_time": "2023-05-01T16:48:07.944Z"
   },
   {
    "duration": 0,
    "start_time": "2023-05-01T16:48:08.003Z"
   },
   {
    "duration": 1201,
    "start_time": "2023-05-01T16:54:39.933Z"
   },
   {
    "duration": 809,
    "start_time": "2023-05-01T16:54:41.136Z"
   },
   {
    "duration": 58,
    "start_time": "2023-05-01T16:54:41.947Z"
   },
   {
    "duration": 37,
    "start_time": "2023-05-01T16:54:42.018Z"
   },
   {
    "duration": 65,
    "start_time": "2023-05-01T16:54:42.057Z"
   },
   {
    "duration": 143,
    "start_time": "2023-05-01T16:54:42.124Z"
   },
   {
    "duration": 16,
    "start_time": "2023-05-01T16:54:42.269Z"
   },
   {
    "duration": 673,
    "start_time": "2023-05-01T16:54:42.287Z"
   },
   {
    "duration": 9,
    "start_time": "2023-05-01T16:54:42.962Z"
   },
   {
    "duration": 17,
    "start_time": "2023-05-01T16:54:42.972Z"
   },
   {
    "duration": 40,
    "start_time": "2023-05-01T16:54:42.991Z"
   },
   {
    "duration": 6,
    "start_time": "2023-05-01T16:54:43.033Z"
   },
   {
    "duration": 41,
    "start_time": "2023-05-01T16:54:43.040Z"
   },
   {
    "duration": 291,
    "start_time": "2023-05-01T16:54:43.087Z"
   },
   {
    "duration": 8,
    "start_time": "2023-05-01T16:54:43.380Z"
   },
   {
    "duration": 49,
    "start_time": "2023-05-01T16:54:43.390Z"
   },
   {
    "duration": 15,
    "start_time": "2023-05-01T16:54:43.440Z"
   },
   {
    "duration": 7,
    "start_time": "2023-05-01T16:54:43.456Z"
   },
   {
    "duration": 15,
    "start_time": "2023-05-01T16:54:43.464Z"
   },
   {
    "duration": 53,
    "start_time": "2023-05-01T16:54:43.480Z"
   },
   {
    "duration": 6,
    "start_time": "2023-05-01T16:54:43.535Z"
   },
   {
    "duration": 31,
    "start_time": "2023-05-01T16:54:43.543Z"
   },
   {
    "duration": 5,
    "start_time": "2023-05-01T16:54:43.576Z"
   },
   {
    "duration": 11,
    "start_time": "2023-05-01T16:54:43.583Z"
   },
   {
    "duration": 48,
    "start_time": "2023-05-01T16:54:43.596Z"
   },
   {
    "duration": 5,
    "start_time": "2023-05-01T16:54:43.645Z"
   },
   {
    "duration": 7,
    "start_time": "2023-05-01T16:54:43.652Z"
   },
   {
    "duration": 2271,
    "start_time": "2023-05-01T16:54:43.661Z"
   },
   {
    "duration": 49330,
    "start_time": "2023-05-01T16:54:45.936Z"
   },
   {
    "duration": 772,
    "start_time": "2023-05-01T16:55:35.268Z"
   },
   {
    "duration": 3,
    "start_time": "2023-05-01T16:55:36.042Z"
   },
   {
    "duration": 346477,
    "start_time": "2023-05-01T16:55:36.046Z"
   },
   {
    "duration": 99,
    "start_time": "2023-05-01T17:10:32.536Z"
   },
   {
    "duration": 126,
    "start_time": "2023-05-01T17:11:19.255Z"
   },
   {
    "duration": 0,
    "start_time": "2023-05-01T17:13:53.659Z"
   },
   {
    "duration": 1241,
    "start_time": "2023-05-01T18:32:05.348Z"
   },
   {
    "duration": 868,
    "start_time": "2023-05-01T18:32:06.591Z"
   },
   {
    "duration": 45,
    "start_time": "2023-05-01T18:32:07.461Z"
   },
   {
    "duration": 41,
    "start_time": "2023-05-01T18:32:07.518Z"
   },
   {
    "duration": 72,
    "start_time": "2023-05-01T18:32:07.561Z"
   },
   {
    "duration": 142,
    "start_time": "2023-05-01T18:32:07.645Z"
   },
   {
    "duration": 16,
    "start_time": "2023-05-01T18:32:07.789Z"
   },
   {
    "duration": 593,
    "start_time": "2023-05-01T18:32:07.806Z"
   },
   {
    "duration": 22,
    "start_time": "2023-05-01T18:32:08.401Z"
   },
   {
    "duration": 21,
    "start_time": "2023-05-01T18:32:08.425Z"
   },
   {
    "duration": 25,
    "start_time": "2023-05-01T18:32:08.448Z"
   },
   {
    "duration": 4,
    "start_time": "2023-05-01T18:32:08.475Z"
   },
   {
    "duration": 25,
    "start_time": "2023-05-01T18:32:08.481Z"
   },
   {
    "duration": 333,
    "start_time": "2023-05-01T18:32:08.509Z"
   },
   {
    "duration": 17,
    "start_time": "2023-05-01T18:32:08.846Z"
   },
   {
    "duration": 29,
    "start_time": "2023-05-01T18:32:08.865Z"
   },
   {
    "duration": 100,
    "start_time": "2023-05-01T18:32:08.896Z"
   },
   {
    "duration": 0,
    "start_time": "2023-05-01T18:32:08.998Z"
   },
   {
    "duration": 0,
    "start_time": "2023-05-01T18:32:08.999Z"
   },
   {
    "duration": 0,
    "start_time": "2023-05-01T18:32:09.000Z"
   },
   {
    "duration": 0,
    "start_time": "2023-05-01T18:32:09.002Z"
   },
   {
    "duration": 0,
    "start_time": "2023-05-01T18:32:09.003Z"
   },
   {
    "duration": 0,
    "start_time": "2023-05-01T18:32:09.004Z"
   },
   {
    "duration": 0,
    "start_time": "2023-05-01T18:32:09.006Z"
   },
   {
    "duration": 0,
    "start_time": "2023-05-01T18:32:09.007Z"
   },
   {
    "duration": 0,
    "start_time": "2023-05-01T18:32:09.008Z"
   },
   {
    "duration": 0,
    "start_time": "2023-05-01T18:32:09.009Z"
   },
   {
    "duration": 0,
    "start_time": "2023-05-01T18:32:09.010Z"
   },
   {
    "duration": 0,
    "start_time": "2023-05-01T18:32:09.011Z"
   },
   {
    "duration": 0,
    "start_time": "2023-05-01T18:32:09.012Z"
   },
   {
    "duration": 0,
    "start_time": "2023-05-01T18:32:09.013Z"
   },
   {
    "duration": 0,
    "start_time": "2023-05-01T18:32:09.014Z"
   },
   {
    "duration": 0,
    "start_time": "2023-05-01T18:32:09.015Z"
   },
   {
    "duration": 0,
    "start_time": "2023-05-01T18:32:09.016Z"
   },
   {
    "duration": 1313,
    "start_time": "2023-05-01T18:35:14.888Z"
   },
   {
    "duration": 887,
    "start_time": "2023-05-01T18:35:16.203Z"
   },
   {
    "duration": 79,
    "start_time": "2023-05-01T18:35:17.092Z"
   },
   {
    "duration": 52,
    "start_time": "2023-05-01T18:35:17.173Z"
   },
   {
    "duration": 75,
    "start_time": "2023-05-01T18:35:17.237Z"
   },
   {
    "duration": 154,
    "start_time": "2023-05-01T18:35:17.313Z"
   },
   {
    "duration": 17,
    "start_time": "2023-05-01T18:35:17.468Z"
   },
   {
    "duration": 1252,
    "start_time": "2023-05-01T18:35:17.487Z"
   },
   {
    "duration": 12,
    "start_time": "2023-05-01T18:35:18.741Z"
   },
   {
    "duration": 128,
    "start_time": "2023-05-01T18:35:18.755Z"
   },
   {
    "duration": 45,
    "start_time": "2023-05-01T18:35:18.885Z"
   },
   {
    "duration": 44,
    "start_time": "2023-05-01T18:35:18.933Z"
   },
   {
    "duration": 81,
    "start_time": "2023-05-01T18:35:18.979Z"
   },
   {
    "duration": 778,
    "start_time": "2023-05-01T18:35:19.068Z"
   },
   {
    "duration": 9,
    "start_time": "2023-05-01T18:35:19.849Z"
   },
   {
    "duration": 101,
    "start_time": "2023-05-01T18:35:19.860Z"
   },
   {
    "duration": 75,
    "start_time": "2023-05-01T18:35:19.963Z"
   },
   {
    "duration": 33,
    "start_time": "2023-05-01T18:35:20.040Z"
   },
   {
    "duration": 9,
    "start_time": "2023-05-01T18:35:20.075Z"
   },
   {
    "duration": 22,
    "start_time": "2023-05-01T18:35:20.086Z"
   },
   {
    "duration": 21,
    "start_time": "2023-05-01T18:35:20.129Z"
   },
   {
    "duration": 31,
    "start_time": "2023-05-01T18:35:20.157Z"
   },
   {
    "duration": 7,
    "start_time": "2023-05-01T18:35:20.190Z"
   },
   {
    "duration": 6,
    "start_time": "2023-05-01T18:35:20.199Z"
   },
   {
    "duration": 59,
    "start_time": "2023-05-01T18:35:20.207Z"
   },
   {
    "duration": 8,
    "start_time": "2023-05-01T18:35:20.268Z"
   },
   {
    "duration": 6,
    "start_time": "2023-05-01T18:35:20.278Z"
   },
   {
    "duration": 4141,
    "start_time": "2023-05-01T18:35:20.286Z"
   },
   {
    "duration": 53846,
    "start_time": "2023-05-01T18:35:24.430Z"
   },
   {
    "duration": 790,
    "start_time": "2023-05-01T18:36:18.278Z"
   },
   {
    "duration": 4,
    "start_time": "2023-05-01T18:36:19.070Z"
   },
   {
    "duration": 376622,
    "start_time": "2023-05-01T18:36:19.076Z"
   },
   {
    "duration": 77883,
    "start_time": "2023-05-01T18:42:35.700Z"
   },
   {
    "duration": 60,
    "start_time": "2023-05-01T19:04:50.237Z"
   },
   {
    "duration": 7,
    "start_time": "2023-05-01T19:05:19.252Z"
   },
   {
    "duration": 3,
    "start_time": "2023-05-01T20:25:54.310Z"
   },
   {
    "duration": 60,
    "start_time": "2023-05-02T06:40:04.412Z"
   },
   {
    "duration": 11,
    "start_time": "2023-05-02T06:40:24.212Z"
   },
   {
    "duration": 1472,
    "start_time": "2023-05-02T06:40:29.927Z"
   },
   {
    "duration": 4427,
    "start_time": "2023-05-02T06:40:31.403Z"
   },
   {
    "duration": 67,
    "start_time": "2023-05-02T06:40:35.836Z"
   },
   {
    "duration": 49,
    "start_time": "2023-05-02T06:40:35.905Z"
   },
   {
    "duration": 58,
    "start_time": "2023-05-02T06:40:35.957Z"
   },
   {
    "duration": 210,
    "start_time": "2023-05-02T06:40:36.017Z"
   },
   {
    "duration": 17,
    "start_time": "2023-05-02T06:40:36.231Z"
   },
   {
    "duration": 1642,
    "start_time": "2023-05-02T06:40:36.250Z"
   },
   {
    "duration": 17,
    "start_time": "2023-05-02T06:40:37.895Z"
   },
   {
    "duration": 84,
    "start_time": "2023-05-02T06:40:37.914Z"
   },
   {
    "duration": 45,
    "start_time": "2023-05-02T06:40:38.001Z"
   },
   {
    "duration": 89,
    "start_time": "2023-05-02T06:40:38.047Z"
   },
   {
    "duration": 151,
    "start_time": "2023-05-02T06:40:38.138Z"
   },
   {
    "duration": 991,
    "start_time": "2023-05-02T06:40:38.300Z"
   },
   {
    "duration": 14,
    "start_time": "2023-05-02T06:40:39.293Z"
   },
   {
    "duration": 89,
    "start_time": "2023-05-02T06:40:39.310Z"
   },
   {
    "duration": 52,
    "start_time": "2023-05-02T06:40:39.401Z"
   },
   {
    "duration": 16,
    "start_time": "2023-05-02T06:40:39.455Z"
   },
   {
    "duration": 73,
    "start_time": "2023-05-02T06:40:39.473Z"
   },
   {
    "duration": 168,
    "start_time": "2023-05-02T06:40:39.548Z"
   },
   {
    "duration": 11,
    "start_time": "2023-05-02T06:40:39.718Z"
   },
   {
    "duration": 74,
    "start_time": "2023-05-02T06:40:39.731Z"
   },
   {
    "duration": 65,
    "start_time": "2023-05-02T06:40:39.812Z"
   },
   {
    "duration": 136,
    "start_time": "2023-05-02T06:40:39.879Z"
   },
   {
    "duration": 88,
    "start_time": "2023-05-02T06:40:40.016Z"
   },
   {
    "duration": 45,
    "start_time": "2023-05-02T06:40:40.106Z"
   },
   {
    "duration": 8,
    "start_time": "2023-05-02T06:40:40.153Z"
   },
   {
    "duration": 3969,
    "start_time": "2023-05-02T06:40:40.163Z"
   },
   {
    "duration": 53196,
    "start_time": "2023-05-02T06:40:44.141Z"
   },
   {
    "duration": 717,
    "start_time": "2023-05-02T06:41:37.339Z"
   },
   {
    "duration": 2,
    "start_time": "2023-05-02T06:41:38.058Z"
   },
   {
    "duration": 357761,
    "start_time": "2023-05-02T06:41:38.062Z"
   },
   {
    "duration": 1242,
    "start_time": "2023-05-02T06:48:27.679Z"
   },
   {
    "duration": 826,
    "start_time": "2023-05-02T06:48:28.924Z"
   },
   {
    "duration": 87,
    "start_time": "2023-05-02T06:48:29.751Z"
   },
   {
    "duration": 49,
    "start_time": "2023-05-02T06:48:29.841Z"
   },
   {
    "duration": 67,
    "start_time": "2023-05-02T06:48:29.897Z"
   },
   {
    "duration": 168,
    "start_time": "2023-05-02T06:48:29.966Z"
   },
   {
    "duration": 15,
    "start_time": "2023-05-02T06:48:30.136Z"
   },
   {
    "duration": 750,
    "start_time": "2023-05-02T06:48:30.153Z"
   },
   {
    "duration": 17,
    "start_time": "2023-05-02T06:48:30.911Z"
   },
   {
    "duration": 37,
    "start_time": "2023-05-02T06:48:30.931Z"
   },
   {
    "duration": 57,
    "start_time": "2023-05-02T06:48:30.970Z"
   },
   {
    "duration": 11,
    "start_time": "2023-05-02T06:48:31.030Z"
   },
   {
    "duration": 136,
    "start_time": "2023-05-02T06:48:31.043Z"
   },
   {
    "duration": 358,
    "start_time": "2023-05-02T06:48:31.184Z"
   },
   {
    "duration": 9,
    "start_time": "2023-05-02T06:48:31.543Z"
   },
   {
    "duration": 112,
    "start_time": "2023-05-02T06:48:31.554Z"
   },
   {
    "duration": 42,
    "start_time": "2023-05-02T06:48:31.668Z"
   },
   {
    "duration": 12,
    "start_time": "2023-05-02T06:48:31.713Z"
   },
   {
    "duration": 24,
    "start_time": "2023-05-02T06:48:31.727Z"
   },
   {
    "duration": 49,
    "start_time": "2023-05-02T06:48:31.753Z"
   },
   {
    "duration": 58,
    "start_time": "2023-05-02T06:48:31.804Z"
   },
   {
    "duration": 32,
    "start_time": "2023-05-02T06:48:31.864Z"
   },
   {
    "duration": 45,
    "start_time": "2023-05-02T06:48:31.897Z"
   },
   {
    "duration": 25,
    "start_time": "2023-05-02T06:48:31.943Z"
   },
   {
    "duration": 29,
    "start_time": "2023-05-02T06:48:31.970Z"
   },
   {
    "duration": 41,
    "start_time": "2023-05-02T06:48:32.002Z"
   },
   {
    "duration": 44,
    "start_time": "2023-05-02T06:48:32.045Z"
   },
   {
    "duration": 32,
    "start_time": "2023-05-02T06:48:32.091Z"
   },
   {
    "duration": 15,
    "start_time": "2023-05-02T06:48:32.125Z"
   },
   {
    "duration": 7745,
    "start_time": "2023-05-02T06:48:32.141Z"
   },
   {
    "duration": 49355,
    "start_time": "2023-05-02T06:48:39.888Z"
   },
   {
    "duration": 783,
    "start_time": "2023-05-02T06:49:29.244Z"
   },
   {
    "duration": 3,
    "start_time": "2023-05-02T06:49:30.028Z"
   },
   {
    "duration": 356863,
    "start_time": "2023-05-02T06:49:30.033Z"
   },
   {
    "duration": 75166,
    "start_time": "2023-05-02T06:55:26.901Z"
   },
   {
    "duration": 92,
    "start_time": "2023-05-02T06:56:42.069Z"
   },
   {
    "duration": 30,
    "start_time": "2023-05-02T06:56:42.163Z"
   },
   {
    "duration": 21,
    "start_time": "2023-05-02T06:56:42.233Z"
   },
   {
    "duration": 11,
    "start_time": "2023-05-02T06:56:42.257Z"
   },
   {
    "duration": 16,
    "start_time": "2023-05-02T06:56:42.270Z"
   },
   {
    "duration": 53,
    "start_time": "2023-05-02T06:56:42.288Z"
   },
   {
    "duration": 13,
    "start_time": "2023-05-02T06:56:42.343Z"
   },
   {
    "duration": 140,
    "start_time": "2023-05-02T06:56:42.358Z"
   },
   {
    "duration": 4,
    "start_time": "2023-05-02T06:57:57.033Z"
   },
   {
    "duration": 1123,
    "start_time": "2023-05-02T06:58:06.282Z"
   },
   {
    "duration": 63,
    "start_time": "2023-05-02T06:59:53.327Z"
   },
   {
    "duration": 17,
    "start_time": "2023-05-02T07:07:20.413Z"
   },
   {
    "duration": 23,
    "start_time": "2023-05-02T07:07:29.782Z"
   },
   {
    "duration": 1157,
    "start_time": "2023-05-02T07:07:50.489Z"
   },
   {
    "duration": 1518,
    "start_time": "2023-05-02T09:26:23.344Z"
   },
   {
    "duration": 808,
    "start_time": "2023-05-02T09:26:24.865Z"
   },
   {
    "duration": 56,
    "start_time": "2023-05-02T09:26:25.675Z"
   },
   {
    "duration": 28,
    "start_time": "2023-05-02T09:26:25.734Z"
   },
   {
    "duration": 65,
    "start_time": "2023-05-02T09:26:25.764Z"
   },
   {
    "duration": 135,
    "start_time": "2023-05-02T09:26:25.831Z"
   },
   {
    "duration": 24,
    "start_time": "2023-05-02T09:26:25.968Z"
   },
   {
    "duration": 319,
    "start_time": "2023-05-02T09:26:25.999Z"
   },
   {
    "duration": 9,
    "start_time": "2023-05-02T09:26:26.321Z"
   },
   {
    "duration": 26,
    "start_time": "2023-05-02T09:26:26.332Z"
   },
   {
    "duration": 26,
    "start_time": "2023-05-02T09:26:26.360Z"
   },
   {
    "duration": 21,
    "start_time": "2023-05-02T09:26:26.395Z"
   },
   {
    "duration": 44,
    "start_time": "2023-05-02T09:26:26.417Z"
   },
   {
    "duration": 288,
    "start_time": "2023-05-02T09:26:26.462Z"
   },
   {
    "duration": 9,
    "start_time": "2023-05-02T09:26:26.752Z"
   },
   {
    "duration": 50,
    "start_time": "2023-05-02T09:26:26.763Z"
   },
   {
    "duration": 15,
    "start_time": "2023-05-02T09:26:26.814Z"
   },
   {
    "duration": 4,
    "start_time": "2023-05-02T09:26:26.831Z"
   },
   {
    "duration": 10,
    "start_time": "2023-05-02T09:26:26.837Z"
   },
   {
    "duration": 116,
    "start_time": "2023-05-02T09:26:26.848Z"
   },
   {
    "duration": 39,
    "start_time": "2023-05-02T09:26:26.966Z"
   },
   {
    "duration": 22,
    "start_time": "2023-05-02T09:26:27.007Z"
   },
   {
    "duration": 4,
    "start_time": "2023-05-02T09:26:27.031Z"
   },
   {
    "duration": 21,
    "start_time": "2023-05-02T09:26:27.037Z"
   },
   {
    "duration": 9,
    "start_time": "2023-05-02T09:26:27.059Z"
   },
   {
    "duration": 29,
    "start_time": "2023-05-02T09:26:27.070Z"
   },
   {
    "duration": 18,
    "start_time": "2023-05-02T09:26:27.104Z"
   },
   {
    "duration": 838,
    "start_time": "2023-05-02T09:26:27.125Z"
   },
   {
    "duration": 47,
    "start_time": "2023-05-02T09:26:27.964Z"
   },
   {
    "duration": 12,
    "start_time": "2023-05-02T09:26:28.013Z"
   },
   {
    "duration": 16,
    "start_time": "2023-05-02T09:26:28.027Z"
   },
   {
    "duration": 1069,
    "start_time": "2023-05-02T09:26:28.045Z"
   },
   {
    "duration": 7,
    "start_time": "2023-05-02T09:26:29.117Z"
   },
   {
    "duration": 20,
    "start_time": "2023-05-02T09:26:29.126Z"
   },
   {
    "duration": 6,
    "start_time": "2023-05-02T09:26:29.148Z"
   },
   {
    "duration": 28,
    "start_time": "2023-05-02T09:26:29.156Z"
   },
   {
    "duration": 37,
    "start_time": "2023-05-02T09:26:29.193Z"
   },
   {
    "duration": 6,
    "start_time": "2023-05-02T09:26:29.232Z"
   },
   {
    "duration": 14,
    "start_time": "2023-05-02T09:26:29.240Z"
   },
   {
    "duration": 6234,
    "start_time": "2023-05-02T09:26:29.256Z"
   },
   {
    "duration": 45737,
    "start_time": "2023-05-02T09:26:35.492Z"
   },
   {
    "duration": 670,
    "start_time": "2023-05-02T09:27:21.230Z"
   },
   {
    "duration": 5,
    "start_time": "2023-05-02T09:27:21.901Z"
   },
   {
    "duration": 331235,
    "start_time": "2023-05-02T09:27:21.907Z"
   },
   {
    "duration": 69284,
    "start_time": "2023-05-02T09:32:53.144Z"
   },
   {
    "duration": 66,
    "start_time": "2023-05-02T09:34:02.430Z"
   },
   {
    "duration": 14,
    "start_time": "2023-05-02T09:34:02.502Z"
   }
  ],
  "kernelspec": {
   "display_name": "Python 3 (ipykernel)",
   "language": "python",
   "name": "python3"
  },
  "language_info": {
   "codemirror_mode": {
    "name": "ipython",
    "version": 3
   },
   "file_extension": ".py",
   "mimetype": "text/x-python",
   "name": "python",
   "nbconvert_exporter": "python",
   "pygments_lexer": "ipython3",
   "version": "3.9.5"
  },
  "toc": {
   "base_numbering": 1,
   "nav_menu": {},
   "number_sections": true,
   "sideBar": true,
   "skip_h1_title": true,
   "title_cell": "Содержание",
   "title_sidebar": "Contents",
   "toc_cell": true,
   "toc_position": {
    "height": "calc(100% - 180px)",
    "left": "10px",
    "top": "150px",
    "width": "361.391px"
   },
   "toc_section_display": true,
   "toc_window_display": true
  }
 },
 "nbformat": 4,
 "nbformat_minor": 2
}
